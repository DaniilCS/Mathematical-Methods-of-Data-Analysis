{
  "nbformat": 4,
  "nbformat_minor": 0,
  "metadata": {
    "kernelspec": {
      "display_name": "Python 3",
      "language": "python",
      "name": "python3"
    },
    "language_info": {
      "codemirror_mode": {
        "name": "ipython",
        "version": 3
      },
      "file_extension": ".py",
      "mimetype": "text/x-python",
      "name": "python",
      "nbconvert_exporter": "python",
      "pygments_lexer": "ipython3",
      "version": "3.8.5"
    },
    "colab": {
      "name": "hw1 (1).ipynb",
      "provenance": [],
      "collapsed_sections": []
    }
  },
  "cells": [
    {
      "cell_type": "markdown",
      "metadata": {
        "id": "JVje3S8qXiSH"
      },
      "source": [
        "# HSE 2021: Mathematical Methods for Data Analysis\n",
        "\n",
        "## Homework 1"
      ]
    },
    {
      "cell_type": "markdown",
      "metadata": {
        "id": "8CJ4Cjn0XiSM"
      },
      "source": [
        "### Attention!\n",
        "* For tasks where <ins>text answer</ins> is required **Russian language** is **allowed**.\n",
        "* If a task asks you to describe something (make coclusions) then **text answer** is **mandatory** and **is** part of the task\n",
        "* **Do not** upload the dataset (titanic.csv) to the grading system (we already have it)\n",
        "* We **only** accept **ipynb** notebooks. If you use Google Colab then you'll have to download the notebook before passing the homework\n",
        "* **Do not** use python loops instead of NumPy vector operations over NumPy vectors - it significantly decreases performance (see why https://blog.paperspace.com/numpy-optimization-vectorization-and-broadcasting/), will be punished with -0.25 for **every** task. \n",
        "Loops are only allowed in part 1 (Tasks 1 - 4). \n",
        "* Some tasks contain tests. They only test you solution on a simple example, thus, passing the test does **not** guarantee you the full grade for the task. "
      ]
    },
    {
      "cell_type": "code",
      "metadata": {
        "id": "f-guPfpDXiSN"
      },
      "source": [
        "%matplotlib inline\n",
        "import numpy as np\n",
        "import pandas as pd\n",
        "import matplotlib.pyplot as plt\n",
        "import seaborn as sns"
      ],
      "execution_count": 1,
      "outputs": []
    },
    {
      "cell_type": "markdown",
      "metadata": {
        "id": "LWVkf5hvXiSO"
      },
      "source": [
        "# 1. Python (2 points)"
      ]
    },
    {
      "cell_type": "markdown",
      "metadata": {
        "id": "c-LfcS17XiSP"
      },
      "source": [
        "**Task 1** (0.5 points)<br/> \n",
        "Enter numbers `a`,  `d` и `N`. Find sum of the first `N` members of arithmetic progression with the first member `a` and difference `d`, without using formula for the sum."
      ]
    },
    {
      "cell_type": "code",
      "metadata": {
        "id": "o7aBNcNzXiSQ"
      },
      "source": [
        "def find_sum(a,d,N):\n",
        "    sum = 0\n",
        "    memb = a\n",
        "    for i in range(N):\n",
        "      sum += memb\n",
        "      memb += d\n",
        "    return sum"
      ],
      "execution_count": 2,
      "outputs": []
    },
    {
      "cell_type": "markdown",
      "metadata": {
        "id": "Ne-fAmcLXiSQ"
      },
      "source": [
        "Check yourself"
      ]
    },
    {
      "cell_type": "code",
      "metadata": {
        "id": "GIiLHweOXiSR"
      },
      "source": [
        "a = 2\n",
        "d = 3\n",
        "N = 15\n",
        "assert find_sum(a,d,N) == 345, 'Wrong answer'"
      ],
      "execution_count": 3,
      "outputs": []
    },
    {
      "cell_type": "markdown",
      "metadata": {
        "id": "ijteYtDRXiSR"
      },
      "source": [
        "---\n",
        "**Task 2** (0.5 points) <br/> \n",
        "Enter an integer number `N`. Check if it is a prime number."
      ]
    },
    {
      "cell_type": "code",
      "metadata": {
        "id": "GU54cumSXiSS"
      },
      "source": [
        "def check_prime(N):\n",
        "    if (N <= 0):\n",
        "      return False\n",
        "    if (N == 1):\n",
        "      return False\n",
        "    for i in range(N - 3):\n",
        "      if (N % (i + 2) == 0):\n",
        "        return False\n",
        "    return True"
      ],
      "execution_count": 4,
      "outputs": []
    },
    {
      "cell_type": "markdown",
      "metadata": {
        "id": "Pmq_9d5VXiSS"
      },
      "source": [
        "Check yourself"
      ]
    },
    {
      "cell_type": "code",
      "metadata": {
        "id": "HOH4losDXiSS"
      },
      "source": [
        "inp = [3, 8, 13, 111, 113, 237, 307, 479, 481]\n",
        "answer = [True, False, True, False, True, False, True, True, False]\n",
        "\n",
        "for N, ans in zip(inp, answer):\n",
        "    assert check_prime(N) == ans, f'Wrong answer for input {N}, {ans} is expected'"
      ],
      "execution_count": 5,
      "outputs": []
    },
    {
      "cell_type": "markdown",
      "metadata": {
        "id": "1znyEndWXiST"
      },
      "source": [
        "---\n",
        "**Task 3** (0.5 points) <br/> \n",
        "Find the first `N` prime numbers (you may use the function from the previous task)."
      ]
    },
    {
      "cell_type": "code",
      "metadata": {
        "id": "Z-qQAo7AXiST"
      },
      "source": [
        "def find_primes(N):\n",
        "    ans = []\n",
        "    i = 0\n",
        "    k = 2\n",
        "    while (i < N):\n",
        "      if (check_prime(k)):\n",
        "        ans.append(k)\n",
        "        i += 1\n",
        "      k += 1\n",
        "\n",
        "    return ans"
      ],
      "execution_count": 6,
      "outputs": []
    },
    {
      "cell_type": "markdown",
      "metadata": {
        "id": "SCfE0UZ_XiST"
      },
      "source": [
        "Check yourself"
      ]
    },
    {
      "cell_type": "code",
      "metadata": {
        "id": "34UW8_ehXiST"
      },
      "source": [
        "assert find_primes(5) == [2, 3, 5, 7, 11], 'Wrong answer'"
      ],
      "execution_count": 10,
      "outputs": []
    },
    {
      "cell_type": "markdown",
      "metadata": {
        "id": "9Aowy1gCXiSU"
      },
      "source": [
        "---\n",
        "**Task 4** (0.5 points) <br/> \n",
        "There are numbers: `a`, `b`, `c`. Without using functions `min`, `max` or any other functions, find the maximum number."
      ]
    },
    {
      "cell_type": "code",
      "metadata": {
        "id": "MjuX-VjpXiSU"
      },
      "source": [
        "def find_max(a, b, c):\n",
        "    if(a >= b and a >= c):\n",
        "      return a\n",
        "    if(b >= a and b >= c):\n",
        "      return b\n",
        "    if(c >= a and c >= b):\n",
        "      return c"
      ],
      "execution_count": 11,
      "outputs": []
    },
    {
      "cell_type": "markdown",
      "metadata": {
        "id": "QbjzFajPXiSU"
      },
      "source": [
        "Check yourself"
      ]
    },
    {
      "cell_type": "code",
      "metadata": {
        "colab": {
          "base_uri": "https://localhost:8080/"
        },
        "id": "-ZYVBNFgXiSU",
        "outputId": "df350648-6e12-4acd-c594-13c421b507fa"
      },
      "source": [
        "from random import randint\n",
        "for i in range(10):    \n",
        "    a = randint(-100, 100)\n",
        "    b = randint(-100, 100)\n",
        "    c = randint(-100, 100)\n",
        "    answer = np.max([a, b, c])  # You cannot use `np.max` in the solution ;)\n",
        "    print(f'Checking on {a, b, c}')\n",
        "    assert find_max(a, b, c) == answer, f'Wrong maximum, {answer} is expected'"
      ],
      "execution_count": 12,
      "outputs": [
        {
          "output_type": "stream",
          "name": "stdout",
          "text": [
            "Checking on (-33, 93, 3)\n",
            "Checking on (-8, 77, 88)\n",
            "Checking on (-98, 92, 80)\n",
            "Checking on (-38, 53, 20)\n",
            "Checking on (-42, 14, 13)\n",
            "Checking on (85, -78, -13)\n",
            "Checking on (95, -48, -49)\n",
            "Checking on (-65, -82, 75)\n",
            "Checking on (35, -95, -17)\n",
            "Checking on (-50, -94, 34)\n"
          ]
        }
      ]
    },
    {
      "cell_type": "markdown",
      "metadata": {
        "id": "DPVJg-nDXiSV"
      },
      "source": [
        "# 2. Numpy (4 points)\n",
        "### **!Do not use loops in the tasks below, see disclamer at the top of the notebook**"
      ]
    },
    {
      "cell_type": "markdown",
      "metadata": {
        "id": "I7Q1JImYXiSV"
      },
      "source": [
        "**Task 1** (0.5 points) <br/>\n",
        "Create a random array (`np.random.rand()`) with length of 20 and with sum of its elements equals to 3."
      ]
    },
    {
      "cell_type": "code",
      "metadata": {
        "id": "9n__7BlxXiSV"
      },
      "source": [
        "my_array = np.random.rand(20)\n",
        "my_array = my_array * 3 / np.sum(my_array)\n",
        "## Your code here"
      ],
      "execution_count": 13,
      "outputs": []
    },
    {
      "cell_type": "markdown",
      "metadata": {
        "id": "pzlCZGy-XiSW"
      },
      "source": [
        "Check yourself"
      ]
    },
    {
      "cell_type": "code",
      "metadata": {
        "id": "E3QrLEiHXiSW"
      },
      "source": [
        "assert len(my_array) == 20\n",
        "assert np.allclose(np.sum(my_array), 3)"
      ],
      "execution_count": 14,
      "outputs": []
    },
    {
      "cell_type": "markdown",
      "metadata": {
        "id": "r35bWt9WXiSW"
      },
      "source": [
        "---\n",
        "**Task 2** (0.5 points) <br/>\n",
        "Create two random arrays $a$ and $b$ with the same length. \n",
        "\n",
        "Calculate the following distances between the arrays **without using special functions. You may only use basic numpy operations (first level functions like `np.dot` are ok, higher level functions like `np.linalg.*` are prohibited).**:\n",
        "\n",
        "* Euclidean Distance\n",
        "$$ d(a, b) = \\sqrt{\\sum_i (a_i - b_i)^2} $$\n",
        "* Manhattan Distance\n",
        "$$ d(a, b) = \\sum_i |a_i - b_i| $$\n",
        "* Cosine Distance\n",
        "$$ d(a, b) = 1 - \\frac{a^\\top b}{||a||_2\\cdot||b||_2}, \\,\\, \\text{where}\\,\\, ||a||_2 = \\sqrt{\\sum_i a_i^2} $$"
      ]
    },
    {
      "cell_type": "code",
      "metadata": {
        "id": "cBMeL-6kXiSX"
      },
      "source": [
        "def cal_euclidean(a, b):    \n",
        "  return np.sqrt(np.dot(a- b, a - b))\n",
        "    \n",
        "\n",
        "def cal_manhattan(a, b):\n",
        "  return np.sum(np.abs(a - b))  \n",
        "\n",
        "    \n",
        "def cal_cosine(a, b): \n",
        "  return 1 - np.dot(np.transpose(a), b) /  np.sqrt(np.dot(a, a)) / np.sqrt(np.dot(b, b))\n",
        "  ## Your code here"
      ],
      "execution_count": 15,
      "outputs": []
    },
    {
      "cell_type": "markdown",
      "metadata": {
        "id": "ujZzPe0CXiSX"
      },
      "source": [
        "Check yourself"
      ]
    },
    {
      "cell_type": "code",
      "metadata": {
        "id": "uZptwIjdXiSX"
      },
      "source": [
        "a = np.ones(10)*0.1\n",
        "b = np.ones(10)\n",
        "\n",
        "assert np.allclose(cal_euclidean(a, b), 2.846049)\n",
        "assert np.allclose(cal_manhattan(a, b), 9)\n",
        "assert np.allclose(cal_cosine(a, b), 0)"
      ],
      "execution_count": 16,
      "outputs": []
    },
    {
      "cell_type": "markdown",
      "metadata": {
        "id": "Tr72ejBoXiSX"
      },
      "source": [
        "---\n",
        "**Task 3** (0.5 points) <br/>\n",
        "Create a function `custom_scaler`, which takes as input an array with integer values and transforms an array, so that:\n",
        "* Maximum element(s) value is 2 (it **doesn't** mean `a[max_index] = 2`)\n",
        "* Minimum element(s) value is -2 (it **doesn't** mean `a[min_index] = -2`)\n",
        "* Other values are in the interval [-2, 2] (using **arithmetic** transformations)"
      ]
    },
    {
      "cell_type": "code",
      "metadata": {
        "id": "55DYtu1sXiSY"
      },
      "source": [
        "def custom_scaler(my_array):\n",
        "    my_array = my_array - np.min(my_array)\n",
        "    my_array = my_array / np.max(my_array) * 4\n",
        "    my_array = my_array - 2\n",
        "    return my_array"
      ],
      "execution_count": 17,
      "outputs": []
    },
    {
      "cell_type": "markdown",
      "metadata": {
        "id": "76MNPZz4XiSY"
      },
      "source": [
        "Check yourself"
      ]
    },
    {
      "cell_type": "code",
      "metadata": {
        "colab": {
          "base_uri": "https://localhost:8080/"
        },
        "id": "f4aSkxzCXiSY",
        "outputId": "6fa80472-e9b7-4d34-87d0-c97a6c4d184a"
      },
      "source": [
        "test_array = np.random.randint(-100, 100, size=4)\n",
        "result = custom_scaler(test_array)\n",
        "print(test_array, '->>', result)\n",
        "\n",
        "assert np.allclose(np.max(result), 2), f'Maximum value shoul be 2, got {np.max(result)} instead'\n",
        "assert np.allclose(np.min(result), -2), f'Minimum value should be -2, got {np.min(result)} instead'\n",
        "assert np.sum(result < -2) + np.sum(result > 2) == 0, 'All elements are supposed to be between -2 and 2'"
      ],
      "execution_count": 18,
      "outputs": [
        {
          "output_type": "stream",
          "name": "stdout",
          "text": [
            "[ -5  -2 -45  66] ->> [-0.55855856 -0.45045045 -2.          2.        ]\n"
          ]
        }
      ]
    },
    {
      "cell_type": "markdown",
      "metadata": {
        "id": "1HrWcdWLXiSY"
      },
      "source": [
        "---\n",
        "**Task 4** (0.5 points) <br/>\n",
        "Create an array with shape of $5 \\times 6$ with integers from [0,50]. Select a column which contains the maximum element of the array."
      ]
    },
    {
      "cell_type": "code",
      "metadata": {
        "id": "J8zzgtY0XiSZ"
      },
      "source": [
        "my_array = np.random.rand(5, 6) * 50 ## Your code here\n",
        "selected_column = np.where(my_array == np.max(my_array))[1][0]## Your code here"
      ],
      "execution_count": 19,
      "outputs": []
    },
    {
      "cell_type": "code",
      "metadata": {
        "id": "RHYn5PmlXiSZ",
        "colab": {
          "base_uri": "https://localhost:8080/"
        },
        "outputId": "1c4db197-d55a-433f-cf2d-55d8b48444f5"
      },
      "source": [
        "print(f'Array:\\n {my_array}')\n",
        "print(f'Shape: {my_array.shape}')\n",
        "print(f'Selected column {selected_column}')"
      ],
      "execution_count": 20,
      "outputs": [
        {
          "output_type": "stream",
          "name": "stdout",
          "text": [
            "Array:\n",
            " [[25.58279967 11.56247018  6.06711225 19.37569987 46.59698868  7.69884544]\n",
            " [11.78126323 44.10465507 37.24069175 47.66457847 32.54046427  0.48343984]\n",
            " [11.76522895 33.14393582 41.66997961 48.73026714 22.71016148  5.52915251]\n",
            " [ 9.97210386 18.95811524 11.09552007 11.21805609 16.76585286 49.60735336]\n",
            " [ 7.60479449 28.57478265  1.88302136 18.03940406 46.55019273 24.46409214]]\n",
            "Shape: (5, 6)\n",
            "Selected column 5\n"
          ]
        }
      ]
    },
    {
      "cell_type": "markdown",
      "metadata": {
        "id": "N1a61JEjXiSZ"
      },
      "source": [
        "---\n",
        "**Task 5** (0.5 points) <br/>\n",
        "\n",
        "Replace all missing values in the following array with mean."
      ]
    },
    {
      "cell_type": "code",
      "metadata": {
        "id": "zJVKfUeKXiSZ",
        "colab": {
          "base_uri": "https://localhost:8080/"
        },
        "outputId": "5f92ad68-c090-4e65-8f4a-dd5595e6387d"
      },
      "source": [
        "arr = np.random.rand(10)\n",
        "idx = np.random.randint(0, 10, 4)\n",
        "arr[idx] = np.nan\n",
        "\n",
        "print(f'Given array: {np.array2string(arr, precision=2)}')"
      ],
      "execution_count": 21,
      "outputs": [
        {
          "output_type": "stream",
          "name": "stdout",
          "text": [
            "Given array: [0.54 0.8  0.04 0.57 0.02 0.21  nan  nan  nan 0.2 ]\n"
          ]
        }
      ]
    },
    {
      "cell_type": "code",
      "metadata": {
        "id": "wFen-HlyXiSa",
        "colab": {
          "base_uri": "https://localhost:8080/"
        },
        "outputId": "d2ca3b0e-f45d-49e5-fbfd-448ec64bc2c8"
      },
      "source": [
        "## Your code here\n",
        "mean = np.nanmean(arr)\n",
        "index = np.where(np.isnan(arr))\n",
        "arr[index]= mean\n",
        "print(f'Result: {np.array2string(arr, precision=2)}')"
      ],
      "execution_count": 22,
      "outputs": [
        {
          "output_type": "stream",
          "name": "stdout",
          "text": [
            "Result: [0.54 0.8  0.04 0.57 0.02 0.21 0.34 0.34 0.34 0.2 ]\n"
          ]
        }
      ]
    },
    {
      "cell_type": "markdown",
      "metadata": {
        "id": "X8VVIbpzXiSa"
      },
      "source": [
        "---\n",
        "**Task 6** (0.5 points) <br/>\n",
        "Create a function which takes an image ```X``` (3D array of the shape (n, m, 3)) as an input and returns the mean for each of 3 channels (a vector of shape 3)."
      ]
    },
    {
      "cell_type": "code",
      "metadata": {
        "id": "D6TwcEdHXiSa"
      },
      "source": [
        "def mean_channel(X):\n",
        "  n = X.shape[0]\n",
        "  m = X.shape[1]\n",
        "  resh = np.reshape(X, (n*m, 3))\n",
        "  return np.mean(resh, axis = 1)"
      ],
      "execution_count": 49,
      "outputs": []
    },
    {
      "cell_type": "code",
      "metadata": {
        "id": "IRXDryy1XiSa",
        "colab": {
          "base_uri": "https://localhost:8080/"
        },
        "outputId": "2d68954e-3ab8-4c92-c23a-acceabab4cba"
      },
      "source": [
        "n = 28\n",
        "m = 16\n",
        "X =  np.random.randint(-10, 10, size=(n,m,3))\n",
        "mean_channel(X)"
      ],
      "execution_count": 27,
      "outputs": [
        {
          "output_type": "execute_result",
          "data": {
            "text/plain": [
              "array([ 5.66666667, -1.        ,  2.33333333,  2.33333333,  2.        ,\n",
              "        2.66666667,  2.        , -1.33333333,  2.66666667, -3.66666667,\n",
              "        1.33333333, -5.        , -3.33333333,  1.66666667, -3.66666667,\n",
              "        5.33333333, -3.        , -0.66666667, -2.        , -4.        ,\n",
              "       -5.33333333,  0.33333333, -7.66666667, -3.        , -4.33333333,\n",
              "       -3.33333333,  5.33333333,  4.33333333, -1.66666667,  1.        ,\n",
              "       -4.66666667, -7.33333333, -4.        ,  7.        ,  3.        ,\n",
              "        2.33333333,  0.66666667,  2.        , -3.66666667, -0.33333333,\n",
              "        5.        , -2.66666667, -3.        , -8.33333333,  1.66666667,\n",
              "        1.        ,  5.33333333, -2.        ,  1.33333333, -2.33333333,\n",
              "       -4.        , -5.33333333,  2.        ,  3.33333333,  0.        ,\n",
              "       -7.66666667,  4.        ,  3.        , -4.        , -2.        ,\n",
              "       -1.66666667, -2.        , -1.        ,  0.33333333,  1.        ,\n",
              "       -4.33333333, -0.33333333,  6.66666667, -2.33333333,  0.        ,\n",
              "        0.33333333,  2.33333333,  3.33333333, -3.66666667, -1.        ,\n",
              "        4.33333333, -2.66666667,  0.        ,  2.66666667,  0.66666667,\n",
              "       -1.66666667,  0.66666667, -0.66666667, -3.33333333,  4.        ,\n",
              "        1.        , -3.66666667,  0.33333333, -0.66666667,  0.66666667,\n",
              "        1.33333333, -3.33333333, -7.66666667,  6.        ,  4.        ,\n",
              "       -4.        , -2.33333333, -1.66666667, -5.66666667, -1.66666667,\n",
              "       -4.66666667, -1.33333333, -8.33333333, -4.33333333, -5.33333333,\n",
              "        1.66666667, -2.33333333, -4.66666667,  2.        , -3.        ,\n",
              "       -5.        ,  7.66666667,  1.66666667, -3.33333333, -2.33333333,\n",
              "       -4.33333333,  1.33333333,  4.        , -0.66666667,  1.        ,\n",
              "        0.66666667, -3.66666667,  3.66666667, -3.66666667,  6.        ,\n",
              "        0.        ,  1.        ,  0.66666667, -3.        , -1.33333333,\n",
              "        3.33333333,  2.33333333,  2.33333333,  1.        , -5.        ,\n",
              "        4.        ,  4.        ,  6.        ,  2.33333333, -1.66666667,\n",
              "       -5.66666667,  2.33333333,  3.33333333,  3.        , -4.66666667,\n",
              "        1.        , -1.        , -1.66666667,  1.66666667,  3.        ,\n",
              "       -1.66666667,  3.        ,  2.33333333, -3.        , -5.        ,\n",
              "        2.33333333,  1.66666667,  1.        ,  1.        ,  2.        ,\n",
              "       -1.        , -5.        ,  3.66666667, -0.33333333, -1.66666667,\n",
              "       -2.66666667,  3.        ,  5.33333333,  1.66666667, -0.66666667,\n",
              "       -2.33333333, -3.33333333,  0.33333333,  5.        , -5.        ,\n",
              "       -3.33333333, -1.66666667,  4.33333333,  4.        , -2.        ,\n",
              "       -1.        , -5.33333333,  5.        ,  3.33333333, -0.66666667,\n",
              "        1.66666667,  2.66666667, -1.        ,  4.66666667, -2.33333333,\n",
              "        1.66666667,  3.33333333,  4.66666667, -2.33333333, -1.        ,\n",
              "       -7.33333333, -1.        , -2.        ,  0.33333333, -5.33333333,\n",
              "       -4.66666667, -5.33333333,  0.33333333, -5.        , -3.33333333,\n",
              "       -2.66666667, -4.        , -1.66666667,  5.33333333, -7.66666667,\n",
              "       -1.33333333, -3.        ,  4.66666667,  1.        , -0.33333333,\n",
              "        2.33333333,  7.66666667, -7.33333333, -4.66666667, -1.        ,\n",
              "       -6.33333333,  2.66666667,  0.66666667,  1.33333333, -2.66666667,\n",
              "        3.66666667, -6.33333333, -6.66666667, -1.66666667,  0.66666667,\n",
              "        0.33333333,  3.        , -1.        ,  2.        ,  5.66666667,\n",
              "       -7.66666667, -0.33333333, -5.66666667, -7.        ,  2.33333333,\n",
              "       -1.        , -3.33333333,  2.66666667, -5.        , -4.33333333,\n",
              "       -4.66666667,  0.        ,  2.        , -4.        ,  0.33333333,\n",
              "        1.66666667,  2.        ,  1.        , -1.33333333, -2.66666667,\n",
              "       -4.        ,  1.66666667,  2.33333333, -6.        , -3.66666667,\n",
              "        5.66666667, -1.66666667, -5.        ,  2.33333333,  2.66666667,\n",
              "       -0.33333333,  0.33333333, -3.        , -3.        , -2.66666667,\n",
              "        1.33333333, -0.66666667, -1.33333333,  3.        , -4.        ,\n",
              "       -4.33333333, -0.33333333,  1.        ,  3.        , -6.        ,\n",
              "       -3.33333333,  0.        , -0.33333333, -5.33333333,  2.66666667,\n",
              "        2.66666667, -7.        , -2.33333333, -4.        , -3.        ,\n",
              "        4.66666667,  0.        , -1.66666667, -3.        ,  4.33333333,\n",
              "       -4.        , -3.66666667,  0.66666667,  1.        , -6.33333333,\n",
              "        6.        , -1.33333333, -2.66666667, -4.        , -1.        ,\n",
              "       -1.66666667,  2.33333333,  0.        , -2.33333333, -4.        ,\n",
              "        1.        , -1.66666667, -4.        ,  2.66666667, -4.33333333,\n",
              "       -3.66666667,  3.        ,  6.        ,  3.        , -0.66666667,\n",
              "       -2.        ,  3.        , -2.33333333,  1.33333333, -1.66666667,\n",
              "       -5.66666667, -5.66666667, -4.66666667,  0.33333333, -3.33333333,\n",
              "        5.        ,  1.        , -1.66666667, -3.        ,  3.33333333,\n",
              "       -0.66666667,  3.        ,  2.33333333,  4.66666667,  1.33333333,\n",
              "       -3.66666667,  1.66666667,  0.        , -1.66666667, -0.33333333,\n",
              "       -0.33333333, -4.        ,  4.66666667,  3.        ,  1.33333333,\n",
              "       -0.33333333, -4.33333333,  0.66666667, -3.33333333,  0.66666667,\n",
              "       -3.66666667, -3.33333333,  2.66666667, -5.66666667,  1.        ,\n",
              "       -2.66666667, -1.33333333,  1.        , -4.33333333, -3.33333333,\n",
              "        2.33333333,  2.        ,  2.66666667, -1.66666667,  5.66666667,\n",
              "       -0.66666667, -1.66666667,  0.66666667,  5.33333333, -0.66666667,\n",
              "       -2.66666667, -5.66666667, -4.33333333,  3.        , -4.        ,\n",
              "       -4.        ,  2.        ,  3.33333333, -3.        , -1.        ,\n",
              "        3.        , -0.66666667,  3.33333333,  0.33333333,  3.66666667,\n",
              "        0.33333333,  3.66666667, -3.        ,  2.33333333, -5.66666667,\n",
              "        0.66666667, -4.66666667, -1.66666667, -5.        , -0.33333333,\n",
              "        2.33333333, -7.66666667,  3.33333333,  2.        ,  2.        ,\n",
              "       -6.66666667,  1.66666667, -5.        , -1.        ,  2.        ,\n",
              "       -3.33333333, -3.33333333, -4.66666667,  0.        ,  4.        ,\n",
              "        4.        , -5.33333333,  0.33333333,  0.33333333,  2.66666667,\n",
              "        3.        ,  1.66666667, -8.66666667, -2.        , -4.        ,\n",
              "       -2.33333333,  1.66666667, -2.        , -1.33333333, -1.33333333,\n",
              "       -1.33333333,  6.66666667,  3.33333333, -1.33333333, -4.        ,\n",
              "       -3.        ,  1.33333333,  5.33333333,  4.        , -3.33333333,\n",
              "       -7.        ,  1.66666667, -0.33333333, -2.66666667,  4.33333333,\n",
              "       -3.        , -0.66666667, -2.66666667])"
            ]
          },
          "metadata": {},
          "execution_count": 27
        }
      ]
    },
    {
      "cell_type": "markdown",
      "metadata": {
        "id": "LBId-ROYXiSa"
      },
      "source": [
        "---\n",
        "**Task 7** (1 points) <br/>\n",
        "Create a function which takes a matrix ```X``` as an input and returns all its unique rows as a matrix, i.e. in a 3D matrix you need to return all unique horizontal layers.\n",
        "\n",
        "Sample input:\n",
        "\n",
        "     ([[[4, 4],\n",
        "        [5, 5]],\n",
        "\n",
        "       [[4, 5],\n",
        "        [5, 5]],\n",
        "\n",
        "       [[4, 4],\n",
        "        [5, 4]],\n",
        "\n",
        "       [[4, 5],\n",
        "        [5, 5]],\n",
        "\n",
        "       [[5, 4],\n",
        "        [4, 4]],\n",
        "\n",
        "       [[5, 5],\n",
        "        [4, 5]]])\n",
        "        \n",
        "Sample output:\n",
        "\n",
        "     ([[[4, 4],\n",
        "        [5, 5]],\n",
        "\n",
        "       [[4, 5],\n",
        "        [5, 5]],\n",
        "\n",
        "       [[4, 4],\n",
        "        [5, 4]],\n",
        "\n",
        "       [[5, 4],\n",
        "        [4, 4]],\n",
        "\n",
        "       [[5, 5],\n",
        "        [4, 5]]])"
      ]
    },
    {
      "cell_type": "code",
      "metadata": {
        "id": "hrefjlfOXiSb"
      },
      "source": [
        "def get_unique_rows(X):\n",
        "    n = X.shape[0]\n",
        "    m = X.shape[1]\n",
        "    k = X.shape[2]\n",
        "    resh = X.reshape((n, m*k))\n",
        "    ans = np.unique(resh, axis = 0)\n",
        "    return ans.reshape(ans.shape[0], m, k)"
      ],
      "execution_count": 63,
      "outputs": []
    },
    {
      "cell_type": "code",
      "metadata": {
        "id": "If028GDKXiSb",
        "colab": {
          "base_uri": "https://localhost:8080/"
        },
        "outputId": "c80fd261-0de8-4d28-8d35-4ad51ae87df7"
      },
      "source": [
        "X =  np.random.randint(4, 6, size=(6, 2, 2))\n",
        "print(X)\n",
        "get_unique_rows(X)"
      ],
      "execution_count": 66,
      "outputs": [
        {
          "output_type": "stream",
          "name": "stdout",
          "text": [
            "[[[5 4]\n",
            "  [4 4]]\n",
            "\n",
            " [[5 4]\n",
            "  [5 4]]\n",
            "\n",
            " [[4 4]\n",
            "  [5 4]]\n",
            "\n",
            " [[5 4]\n",
            "  [4 4]]\n",
            "\n",
            " [[5 4]\n",
            "  [5 4]]\n",
            "\n",
            " [[4 5]\n",
            "  [5 4]]]\n"
          ]
        },
        {
          "output_type": "execute_result",
          "data": {
            "text/plain": [
              "array([[[4, 4],\n",
              "        [5, 4]],\n",
              "\n",
              "       [[4, 5],\n",
              "        [5, 4]],\n",
              "\n",
              "       [[5, 4],\n",
              "        [4, 4]],\n",
              "\n",
              "       [[5, 4],\n",
              "        [5, 4]]])"
            ]
          },
          "metadata": {},
          "execution_count": 66
        }
      ]
    },
    {
      "cell_type": "markdown",
      "metadata": {
        "id": "3mVWoeGSXiSb"
      },
      "source": [
        "# 3. Pandas & Visualization (4 points)\n"
      ]
    },
    {
      "cell_type": "markdown",
      "metadata": {
        "id": "Xzwfa5tiXiSb"
      },
      "source": [
        "You are going to work with *Titanic* dataset which contains information about passengers of Titanic:\n",
        "- **Survived** - 1 - survived, 0 - died (0); **Target variable**\n",
        "- **pclass** - passengers's class;\n",
        "- **sex** - passengers's sex\n",
        "- **Age** - passengers's age in years\n",
        "- **sibsp**    - is the passenger someones siblings   \n",
        "- **parch**    - is the passenger someones child or parent\n",
        "- **ticket** - ticket number    \n",
        "- **fare** - ticket price    \n",
        "- **cabin** - cabin number\n",
        "- **embarked** - port of Embarkation; C = Cherbourg, Q = Queenstown, S = Southampton\n",
        "\n",
        "**Note** for all visualizations use matplotlib or seaborn but NOT plotly! Plotly's graphics sometimes vanish after saving. In this case the task wont't be graded.\n",
        "\n",
        "**Note** support all your answers with necessary code, computations, vizualization, and explanation. Answers without code and explanation won't be graded.\n",
        "\n",
        "**Task 0** (0 points) \\\n",
        "Load the dataset"
      ]
    },
    {
      "cell_type": "code",
      "metadata": {
        "id": "QWEEvpTuXiSc",
        "colab": {
          "base_uri": "https://localhost:8080/",
          "height": 357
        },
        "outputId": "35d460c5-0746-4809-8f30-b869be329dea"
      },
      "source": [
        "dataset = pd.read_csv('titanic.csv') ## Your code here\n",
        "dataset.head(10)"
      ],
      "execution_count": 22,
      "outputs": [
        {
          "output_type": "execute_result",
          "data": {
            "text/html": [
              "<div>\n",
              "<style scoped>\n",
              "    .dataframe tbody tr th:only-of-type {\n",
              "        vertical-align: middle;\n",
              "    }\n",
              "\n",
              "    .dataframe tbody tr th {\n",
              "        vertical-align: top;\n",
              "    }\n",
              "\n",
              "    .dataframe thead th {\n",
              "        text-align: right;\n",
              "    }\n",
              "</style>\n",
              "<table border=\"1\" class=\"dataframe\">\n",
              "  <thead>\n",
              "    <tr style=\"text-align: right;\">\n",
              "      <th></th>\n",
              "      <th>PassengerId</th>\n",
              "      <th>Survived</th>\n",
              "      <th>Pclass</th>\n",
              "      <th>Name</th>\n",
              "      <th>Sex</th>\n",
              "      <th>Age</th>\n",
              "      <th>SibSp</th>\n",
              "      <th>Parch</th>\n",
              "      <th>Ticket</th>\n",
              "      <th>Fare</th>\n",
              "      <th>Cabin</th>\n",
              "      <th>Embarked</th>\n",
              "    </tr>\n",
              "  </thead>\n",
              "  <tbody>\n",
              "    <tr>\n",
              "      <th>0</th>\n",
              "      <td>1</td>\n",
              "      <td>0</td>\n",
              "      <td>3</td>\n",
              "      <td>Braund, Mr. Owen Harris</td>\n",
              "      <td>male</td>\n",
              "      <td>22.0</td>\n",
              "      <td>1</td>\n",
              "      <td>0</td>\n",
              "      <td>A/5 21171</td>\n",
              "      <td>7.2500</td>\n",
              "      <td>NaN</td>\n",
              "      <td>S</td>\n",
              "    </tr>\n",
              "    <tr>\n",
              "      <th>1</th>\n",
              "      <td>2</td>\n",
              "      <td>1</td>\n",
              "      <td>1</td>\n",
              "      <td>Cumings, Mrs. John Bradley (Florence Briggs Th...</td>\n",
              "      <td>female</td>\n",
              "      <td>38.0</td>\n",
              "      <td>1</td>\n",
              "      <td>0</td>\n",
              "      <td>PC 17599</td>\n",
              "      <td>71.2833</td>\n",
              "      <td>C85</td>\n",
              "      <td>C</td>\n",
              "    </tr>\n",
              "    <tr>\n",
              "      <th>2</th>\n",
              "      <td>3</td>\n",
              "      <td>1</td>\n",
              "      <td>3</td>\n",
              "      <td>Heikkinen, Miss. Laina</td>\n",
              "      <td>female</td>\n",
              "      <td>26.0</td>\n",
              "      <td>0</td>\n",
              "      <td>0</td>\n",
              "      <td>STON/O2. 3101282</td>\n",
              "      <td>7.9250</td>\n",
              "      <td>NaN</td>\n",
              "      <td>S</td>\n",
              "    </tr>\n",
              "    <tr>\n",
              "      <th>3</th>\n",
              "      <td>4</td>\n",
              "      <td>1</td>\n",
              "      <td>1</td>\n",
              "      <td>Futrelle, Mrs. Jacques Heath (Lily May Peel)</td>\n",
              "      <td>female</td>\n",
              "      <td>35.0</td>\n",
              "      <td>1</td>\n",
              "      <td>0</td>\n",
              "      <td>113803</td>\n",
              "      <td>53.1000</td>\n",
              "      <td>C123</td>\n",
              "      <td>S</td>\n",
              "    </tr>\n",
              "    <tr>\n",
              "      <th>4</th>\n",
              "      <td>5</td>\n",
              "      <td>0</td>\n",
              "      <td>3</td>\n",
              "      <td>Allen, Mr. William Henry</td>\n",
              "      <td>male</td>\n",
              "      <td>35.0</td>\n",
              "      <td>0</td>\n",
              "      <td>0</td>\n",
              "      <td>373450</td>\n",
              "      <td>8.0500</td>\n",
              "      <td>NaN</td>\n",
              "      <td>S</td>\n",
              "    </tr>\n",
              "    <tr>\n",
              "      <th>5</th>\n",
              "      <td>6</td>\n",
              "      <td>0</td>\n",
              "      <td>3</td>\n",
              "      <td>Moran, Mr. James</td>\n",
              "      <td>male</td>\n",
              "      <td>NaN</td>\n",
              "      <td>0</td>\n",
              "      <td>0</td>\n",
              "      <td>330877</td>\n",
              "      <td>8.4583</td>\n",
              "      <td>NaN</td>\n",
              "      <td>Q</td>\n",
              "    </tr>\n",
              "    <tr>\n",
              "      <th>6</th>\n",
              "      <td>7</td>\n",
              "      <td>0</td>\n",
              "      <td>1</td>\n",
              "      <td>McCarthy, Mr. Timothy J</td>\n",
              "      <td>male</td>\n",
              "      <td>54.0</td>\n",
              "      <td>0</td>\n",
              "      <td>0</td>\n",
              "      <td>17463</td>\n",
              "      <td>51.8625</td>\n",
              "      <td>E46</td>\n",
              "      <td>S</td>\n",
              "    </tr>\n",
              "    <tr>\n",
              "      <th>7</th>\n",
              "      <td>8</td>\n",
              "      <td>0</td>\n",
              "      <td>3</td>\n",
              "      <td>Palsson, Master. Gosta Leonard</td>\n",
              "      <td>male</td>\n",
              "      <td>2.0</td>\n",
              "      <td>3</td>\n",
              "      <td>1</td>\n",
              "      <td>349909</td>\n",
              "      <td>21.0750</td>\n",
              "      <td>NaN</td>\n",
              "      <td>S</td>\n",
              "    </tr>\n",
              "    <tr>\n",
              "      <th>8</th>\n",
              "      <td>9</td>\n",
              "      <td>1</td>\n",
              "      <td>3</td>\n",
              "      <td>Johnson, Mrs. Oscar W (Elisabeth Vilhelmina Berg)</td>\n",
              "      <td>female</td>\n",
              "      <td>27.0</td>\n",
              "      <td>0</td>\n",
              "      <td>2</td>\n",
              "      <td>347742</td>\n",
              "      <td>11.1333</td>\n",
              "      <td>NaN</td>\n",
              "      <td>S</td>\n",
              "    </tr>\n",
              "    <tr>\n",
              "      <th>9</th>\n",
              "      <td>10</td>\n",
              "      <td>1</td>\n",
              "      <td>2</td>\n",
              "      <td>Nasser, Mrs. Nicholas (Adele Achem)</td>\n",
              "      <td>female</td>\n",
              "      <td>14.0</td>\n",
              "      <td>1</td>\n",
              "      <td>0</td>\n",
              "      <td>237736</td>\n",
              "      <td>30.0708</td>\n",
              "      <td>NaN</td>\n",
              "      <td>C</td>\n",
              "    </tr>\n",
              "  </tbody>\n",
              "</table>\n",
              "</div>"
            ],
            "text/plain": [
              "   PassengerId  Survived  Pclass  ...     Fare Cabin  Embarked\n",
              "0            1         0       3  ...   7.2500   NaN         S\n",
              "1            2         1       1  ...  71.2833   C85         C\n",
              "2            3         1       3  ...   7.9250   NaN         S\n",
              "3            4         1       1  ...  53.1000  C123         S\n",
              "4            5         0       3  ...   8.0500   NaN         S\n",
              "5            6         0       3  ...   8.4583   NaN         Q\n",
              "6            7         0       1  ...  51.8625   E46         S\n",
              "7            8         0       3  ...  21.0750   NaN         S\n",
              "8            9         1       3  ...  11.1333   NaN         S\n",
              "9           10         1       2  ...  30.0708   NaN         C\n",
              "\n",
              "[10 rows x 12 columns]"
            ]
          },
          "metadata": {},
          "execution_count": 22
        }
      ]
    },
    {
      "cell_type": "markdown",
      "metadata": {
        "id": "LQrsxkrFXiSc"
      },
      "source": [
        "---\n",
        "**Task 1** (1 points) <br/>\n",
        "Answer the following questions:\n",
        "    \n",
        "    * Are there any missing values? In which columns?\n",
        "    * How many classes (pclass) were there on Tinanic?\n",
        "    * What is the percentage of survived passengers? Are the classes balanced?\n",
        "    * What is the average ticket fare?\n",
        "    * What was the most popular port of embarkation?\n",
        "Please, write not only the answers but the code, proving it."
      ]
    },
    {
      "cell_type": "code",
      "metadata": {
        "id": "L0oAcVWzXiSc",
        "colab": {
          "base_uri": "https://localhost:8080/"
        },
        "outputId": "bd769a0b-825d-48e6-fc33-eb876bc95650"
      },
      "source": [
        "## Your code here\n",
        "print(dataset.isna().any()) # в колонках Age, Cabin, Embarked отсутствуют некоторые значения"
      ],
      "execution_count": 23,
      "outputs": [
        {
          "output_type": "stream",
          "name": "stdout",
          "text": [
            "PassengerId    False\n",
            "Survived       False\n",
            "Pclass         False\n",
            "Name           False\n",
            "Sex            False\n",
            "Age             True\n",
            "SibSp          False\n",
            "Parch          False\n",
            "Ticket         False\n",
            "Fare           False\n",
            "Cabin           True\n",
            "Embarked        True\n",
            "dtype: bool\n"
          ]
        }
      ]
    },
    {
      "cell_type": "code",
      "metadata": {
        "colab": {
          "base_uri": "https://localhost:8080/"
        },
        "id": "vTo3BB2lwLyM",
        "outputId": "91296b5d-39d1-4d7a-d273-26e90ba67995"
      },
      "source": [
        "print(len(pd.unique(dataset.Pclass))) # всего 3 класса на корабле"
      ],
      "execution_count": 24,
      "outputs": [
        {
          "output_type": "stream",
          "name": "stdout",
          "text": [
            "3\n"
          ]
        }
      ]
    },
    {
      "cell_type": "code",
      "metadata": {
        "colab": {
          "base_uri": "https://localhost:8080/"
        },
        "id": "isE9_9T_wSMN",
        "outputId": "7768ab16-8dda-4292-e758-1b58f5c07ff0"
      },
      "source": [
        "surv = dataset[dataset['Survived'] == 1]\n",
        "print(round(len(surv) / len(dataset) * 100, 2), '% выжило на корабле')\n",
        "print(round(len(surv[surv['Pclass'] == 1]) / len(dataset) * 100, 2), '% первого класса выжило на корабле')\n",
        "print(round(len(surv[surv['Pclass'] == 2]) / len(dataset) * 100, 2), '% второго класса выжило на корабле')\n",
        "print(round(len(surv[surv['Pclass'] == 3]) / len(dataset) * 100, 2), '% третьего класса выжило на корабле')\n",
        "print('Процент выживших первого класса наибольший, а второго класса наименьший. Явно выраженной связи между выживанием и классом не видно')"
      ],
      "execution_count": 25,
      "outputs": [
        {
          "output_type": "stream",
          "name": "stdout",
          "text": [
            "38.38 % выжило на корабле\n",
            "15.26 % первого класса выжило на корабле\n",
            "9.76 % второго класса выжило на корабле\n",
            "13.36 % третьего класса выжило на корабле\n",
            "Процент выживших первого класса наибольший, а второго класса наименьший. Явно выраженной связи между выживанием и классом не видно\n"
          ]
        }
      ]
    },
    {
      "cell_type": "code",
      "metadata": {
        "colab": {
          "base_uri": "https://localhost:8080/"
        },
        "id": "gPB_kt5wyVDB",
        "outputId": "3ee1436b-3d7d-47ec-adf3-8188173e1e4b"
      },
      "source": [
        "print('Средняя цена билета:', round(dataset['Fare'].mean(), 2))"
      ],
      "execution_count": 26,
      "outputs": [
        {
          "output_type": "stream",
          "name": "stdout",
          "text": [
            "Средняя цена билета: 32.2\n"
          ]
        }
      ]
    },
    {
      "cell_type": "code",
      "metadata": {
        "colab": {
          "base_uri": "https://localhost:8080/"
        },
        "id": "UiaZpVX8zGvY",
        "outputId": "7aef159b-7ba9-40b7-f521-9d3cea610160"
      },
      "source": [
        "print(dataset.groupby('Embarked')['PassengerId'].nunique())\n",
        "#самый популятный порт - S"
      ],
      "execution_count": 34,
      "outputs": [
        {
          "output_type": "stream",
          "name": "stdout",
          "text": [
            "Embarked\n",
            "C    168\n",
            "Q     77\n",
            "S    644\n",
            "Name: PassengerId, dtype: int64\n"
          ]
        }
      ]
    },
    {
      "cell_type": "markdown",
      "metadata": {
        "id": "NKb2EbjPXiSc"
      },
      "source": [
        "---\n",
        "**Task 2** (1 points) <br/>\n",
        "Find all the titles of the passengers (example, *Capt., Mr.,Mme.*), which are written in the column `Name`, and answer the following questions:\n",
        "\n",
        "    * How many are there unique titles?\n",
        "    * How many are there passengers with every title?\n",
        "    * What is the most popular man's title? And woman's title?\n",
        "    \n",
        "**Hint** You may select the title from the name as a word which contains a dot."
      ]
    },
    {
      "cell_type": "code",
      "metadata": {
        "id": "69W0Sz0PXiSd"
      },
      "source": [
        "## Your code here"
      ],
      "execution_count": 37,
      "outputs": []
    },
    {
      "cell_type": "markdown",
      "metadata": {
        "id": "EI_yuexYXiSd"
      },
      "source": [
        "---\n",
        "**Task 3** (0.5 points) <br/>\n",
        "Visualize age distribution (you may use a histogram, for example). \n",
        "\n",
        "    * What is the minimal and maximum ages of the passengers? Visualize it on the plot\n",
        "    * What is the mean age? Visualize it on the plot\n",
        "    * Make conclusions about what you see on the plot"
      ]
    },
    {
      "cell_type": "code",
      "metadata": {
        "id": "APyshbyoXiSd",
        "colab": {
          "base_uri": "https://localhost:8080/",
          "height": 332
        },
        "outputId": "973c653c-fca9-4e2f-9c6a-3299cd7e4d4b"
      },
      "source": [
        "## Your code here\n",
        "print('Минимальный возраст на корабле:', dataset['Age'].min())\n",
        "print('Минимальный возраст на корабле:', dataset['Age'].max())\n",
        "print('Средний возраст на корабле:', round(dataset['Age'].mean(), 2))\n",
        "dataset['Age'].hist(bins = 20)\n"
      ],
      "execution_count": 48,
      "outputs": [
        {
          "output_type": "stream",
          "name": "stdout",
          "text": [
            "Минимальный возраст на корабле: 0.42\n",
            "Минимальный возраст на корабле: 80.0\n",
            "Средний возраст на корабле: 29.7\n"
          ]
        },
        {
          "output_type": "execute_result",
          "data": {
            "text/plain": [
              "<matplotlib.axes._subplots.AxesSubplot at 0x7f867cd31650>"
            ]
          },
          "metadata": {},
          "execution_count": 48
        },
        {
          "output_type": "display_data",
          "data": {
            "image/png": "[encoded data removed]",
            "text/plain": [
              "<Figure size 432x288 with 1 Axes>"
            ]
          },
          "metadata": {
            "needs_background": "light"
          }
        }
      ]
    },
    {
      "cell_type": "markdown",
      "metadata": {
        "id": "NymRLGxNCW6g"
      },
      "source": [
        "По гистограмме можно определить, что средний возраст на корабле около 30 лет.\n",
        "На кораюле присутствовали люди от 0 лет до 80.\n",
        "Большая часть людей в возрасте от 15 до 35 лет.\n",
        "Распределение соответствует нормальному распределению."
      ]
    },
    {
      "cell_type": "markdown",
      "metadata": {
        "id": "msHovM6kXiSd"
      },
      "source": [
        "---\n",
        "**Task 4** (0.5 points) <br/>\n",
        "Visualize age distribution for survived and not survived passengers separately and calculate the mean age for each class. Are they different? Make conclusions about what you see on the plot"
      ]
    },
    {
      "cell_type": "code",
      "metadata": {
        "id": "3PpHpZ4AXiSe",
        "colab": {
          "base_uri": "https://localhost:8080/",
          "height": 298
        },
        "outputId": "d2ad59dd-5b8e-4005-a1a0-ab0a7b02e933"
      },
      "source": [
        "## You code here\n",
        "print('Средний возраст для выживших на корабле:', round(dataset[dataset['Survived'] == 1]['Age'].mean(), 2))\n",
        "dataset[dataset['Survived'] == 1]['Age'].hist(bins = 20)# распределение по возрастам для выживших"
      ],
      "execution_count": 74,
      "outputs": [
        {
          "output_type": "stream",
          "name": "stdout",
          "text": [
            "Средний возраст для выживших на корабле: 28.34\n"
          ]
        },
        {
          "output_type": "execute_result",
          "data": {
            "text/plain": [
              "<matplotlib.axes._subplots.AxesSubplot at 0x7f867ba1b190>"
            ]
          },
          "metadata": {},
          "execution_count": 74
        },
        {
          "output_type": "display_data",
          "data": {
            "image/png": "[encoded data removed]",
            "text/plain": [
              "<Figure size 432x288 with 1 Axes>"
            ]
          },
          "metadata": {
            "needs_background": "light"
          }
        }
      ]
    },
    {
      "cell_type": "code",
      "metadata": {
        "colab": {
          "base_uri": "https://localhost:8080/",
          "height": 298
        },
        "id": "ujgdkwb9MIg1",
        "outputId": "a82cdad8-1196-46c8-b5bb-3a26128e81b6"
      },
      "source": [
        "print('Средний возраст для выживших на корабле:', round(dataset[dataset['Survived'] == 0]['Age'].mean(), 2))\n",
        "dataset[dataset['Survived'] == 0]['Age'].hist(bins = 20)# распределение по возрастам для невыживших"
      ],
      "execution_count": 75,
      "outputs": [
        {
          "output_type": "stream",
          "name": "stdout",
          "text": [
            "Средний возраст для выживших на корабле: 30.63\n"
          ]
        },
        {
          "output_type": "execute_result",
          "data": {
            "text/plain": [
              "<matplotlib.axes._subplots.AxesSubplot at 0x7f867b95ff50>"
            ]
          },
          "metadata": {},
          "execution_count": 75
        },
        {
          "output_type": "display_data",
          "data": {
            "image/png": "[encoded data removed]",
            "text/plain": [
              "<Figure size 432x288 with 1 Axes>"
            ]
          },
          "metadata": {
            "needs_background": "light"
          }
        }
      ]
    },
    {
      "cell_type": "markdown",
      "metadata": {
        "id": "-xh5ZOY4NLgo"
      },
      "source": [
        "Распределение по возрастам между выжившими и невыжившими на корабле примепрно одинаково. Однако некоторых категорий выживших нет, например, в возрасте от 65 до 75. Молодых людей больше выжило, чем умерло."
      ]
    },
    {
      "cell_type": "markdown",
      "metadata": {
        "id": "G1MZ8n6kXiSe"
      },
      "source": [
        "---\n",
        "**Task 5** (0.5 points) <br/>\n",
        "Is there correlation between the port of embarkation and the ticket price? Calculate mean price for each port and visualize price distribution for each port. Make conclusions about what you see on the plot\n",
        "\n",
        "Hint: you could make one or several plot types i.e.  box, violine, pair, histogram (see additional notebooks for Seminar 1 \"Visualization with Seaborn\"). The main point here is to **choose** plots wisely and **make meaningful conclusions**\n",
        "\n"
      ]
    },
    {
      "cell_type": "markdown",
      "metadata": {
        "id": "zomfTz4uPaX2"
      },
      "source": [
        "Построим ящики с усами для цен каждого из портов. Они покажут распределение цен."
      ]
    },
    {
      "cell_type": "code",
      "metadata": {
        "id": "eOMh51uEXiSe",
        "colab": {
          "base_uri": "https://localhost:8080/",
          "height": 366
        },
        "outputId": "749c4574-f228-418c-cd1a-464705018145"
      },
      "source": [
        "print('Средняя цена билета для порта C', round(dataset[dataset['Embarked'] == 'C']['Fare'].mean(), 2))\n",
        "sns.boxplot(dataset[dataset['Embarked'] == 'C']['Fare'])"
      ],
      "execution_count": 84,
      "outputs": [
        {
          "output_type": "stream",
          "name": "stdout",
          "text": [
            "Средняя цена билета для порта C 59.95\n"
          ]
        },
        {
          "output_type": "stream",
          "name": "stderr",
          "text": [
            "/usr/local/lib/python3.7/dist-packages/seaborn/_decorators.py:43: FutureWarning: Pass the following variable as a keyword arg: x. From version 0.12, the only valid positional argument will be `data`, and passing other arguments without an explicit keyword will result in an error or misinterpretation.\n",
            "  FutureWarning\n"
          ]
        },
        {
          "output_type": "execute_result",
          "data": {
            "text/plain": [
              "<matplotlib.axes._subplots.AxesSubplot at 0x7f867b638150>"
            ]
          },
          "metadata": {},
          "execution_count": 84
        },
        {
          "output_type": "display_data",
          "data": {
            "image/png": "[encoded data removed]",
            "text/plain": [
              "<Figure size 432x288 with 1 Axes>"
            ]
          },
          "metadata": {
            "needs_background": "light"
          }
        }
      ]
    },
    {
      "cell_type": "code",
      "metadata": {
        "colab": {
          "base_uri": "https://localhost:8080/",
          "height": 366
        },
        "id": "AlpJ8tmiOyIF",
        "outputId": "97bd312f-5f22-436e-bb7a-d454406936ef"
      },
      "source": [
        "print('Средняя цена билета для порта S', round(dataset[dataset['Embarked'] == 'S']['Fare'].mean(), 2))\n",
        "sns.boxplot(dataset[dataset['Embarked'] == 'S']['Fare'])"
      ],
      "execution_count": 85,
      "outputs": [
        {
          "output_type": "stream",
          "name": "stdout",
          "text": [
            "Средняя цена билета для порта S 27.08\n"
          ]
        },
        {
          "output_type": "stream",
          "name": "stderr",
          "text": [
            "/usr/local/lib/python3.7/dist-packages/seaborn/_decorators.py:43: FutureWarning: Pass the following variable as a keyword arg: x. From version 0.12, the only valid positional argument will be `data`, and passing other arguments without an explicit keyword will result in an error or misinterpretation.\n",
            "  FutureWarning\n"
          ]
        },
        {
          "output_type": "execute_result",
          "data": {
            "text/plain": [
              "<matplotlib.axes._subplots.AxesSubplot at 0x7f867b5a1490>"
            ]
          },
          "metadata": {},
          "execution_count": 85
        },
        {
          "output_type": "display_data",
          "data": {
            "image/png": "[encoded data removed]",
            "text/plain": [
              "<Figure size 432x288 with 1 Axes>"
            ]
          },
          "metadata": {
            "needs_background": "light"
          }
        }
      ]
    },
    {
      "cell_type": "code",
      "metadata": {
        "colab": {
          "base_uri": "https://localhost:8080/",
          "height": 366
        },
        "id": "GC08fsxYO5qQ",
        "outputId": "5973da3b-3f70-49b2-a7c1-f892c327287c"
      },
      "source": [
        "print('Средняя цена билета для порта Q', round(dataset[dataset['Embarked'] == 'Q']['Fare'].mean(), 2))\n",
        "sns.boxplot(dataset[dataset['Embarked'] == 'Q']['Fare'])"
      ],
      "execution_count": 87,
      "outputs": [
        {
          "output_type": "stream",
          "name": "stdout",
          "text": [
            "Средняя цена билета для порта Q 13.28\n"
          ]
        },
        {
          "output_type": "stream",
          "name": "stderr",
          "text": [
            "/usr/local/lib/python3.7/dist-packages/seaborn/_decorators.py:43: FutureWarning: Pass the following variable as a keyword arg: x. From version 0.12, the only valid positional argument will be `data`, and passing other arguments without an explicit keyword will result in an error or misinterpretation.\n",
            "  FutureWarning\n"
          ]
        },
        {
          "output_type": "execute_result",
          "data": {
            "text/plain": [
              "<matplotlib.axes._subplots.AxesSubplot at 0x7f867b4eec10>"
            ]
          },
          "metadata": {},
          "execution_count": 87
        },
        {
          "output_type": "display_data",
          "data": {
            "image/png": "[encoded data removed]",
            "text/plain": [
              "<Figure size 432x288 with 1 Axes>"
            ]
          },
          "metadata": {
            "needs_background": "light"
          }
        }
      ]
    },
    {
      "cell_type": "markdown",
      "metadata": {
        "id": "bq4C9HzxQTBY"
      },
      "source": [
        "Порт коррелирует с ценой за билет на корабль. Самые дорогие билеты на порт C, средней стоимости на порт S, самые дешевые на порт Q. Больше всего выбросов цен на порту S."
      ]
    },
    {
      "cell_type": "markdown",
      "metadata": {
        "id": "lRX83DDyXiSe"
      },
      "source": [
        "---\n",
        "**Task 6** (0.5 points) <br/>\n",
        "The same question as in task 5 about correlation between *pclass* and *ticket priсe*."
      ]
    },
    {
      "cell_type": "code",
      "metadata": {
        "id": "zRLb0SvrXiSf",
        "colab": {
          "base_uri": "https://localhost:8080/",
          "height": 366
        },
        "outputId": "ead49216-3b22-45bc-c1b2-21647f6a4f7a"
      },
      "source": [
        "print('Средняя цена билета для класса 1', round(dataset[dataset['Pclass'] == 1]['Fare'].mean(), 2))\n",
        "sns.boxplot(dataset[dataset['Pclass'] == 1]['Fare'])"
      ],
      "execution_count": 88,
      "outputs": [
        {
          "output_type": "stream",
          "name": "stdout",
          "text": [
            "Средняя цена билета для класса 1 84.15\n"
          ]
        },
        {
          "output_type": "stream",
          "name": "stderr",
          "text": [
            "/usr/local/lib/python3.7/dist-packages/seaborn/_decorators.py:43: FutureWarning: Pass the following variable as a keyword arg: x. From version 0.12, the only valid positional argument will be `data`, and passing other arguments without an explicit keyword will result in an error or misinterpretation.\n",
            "  FutureWarning\n"
          ]
        },
        {
          "output_type": "execute_result",
          "data": {
            "text/plain": [
              "<matplotlib.axes._subplots.AxesSubplot at 0x7f867b4e39d0>"
            ]
          },
          "metadata": {},
          "execution_count": 88
        },
        {
          "output_type": "display_data",
          "data": {
            "image/png": "[encoded data removed]",
            "text/plain": [
              "<Figure size 432x288 with 1 Axes>"
            ]
          },
          "metadata": {
            "needs_background": "light"
          }
        }
      ]
    },
    {
      "cell_type": "code",
      "metadata": {
        "colab": {
          "base_uri": "https://localhost:8080/",
          "height": 366
        },
        "id": "c-bHWIcIR4iY",
        "outputId": "6d2b9b6d-c2f1-41d9-e935-6f20ecab0f32"
      },
      "source": [
        "print('Средняя цена билета для класса 2', round(dataset[dataset['Pclass'] == 2]['Fare'].mean(), 2))\n",
        "sns.boxplot(dataset[dataset['Pclass'] == 2]['Fare'])"
      ],
      "execution_count": 89,
      "outputs": [
        {
          "output_type": "stream",
          "name": "stdout",
          "text": [
            "Средняя цена билета для класса 2 20.66\n"
          ]
        },
        {
          "output_type": "stream",
          "name": "stderr",
          "text": [
            "/usr/local/lib/python3.7/dist-packages/seaborn/_decorators.py:43: FutureWarning: Pass the following variable as a keyword arg: x. From version 0.12, the only valid positional argument will be `data`, and passing other arguments without an explicit keyword will result in an error or misinterpretation.\n",
            "  FutureWarning\n"
          ]
        },
        {
          "output_type": "execute_result",
          "data": {
            "text/plain": [
              "<matplotlib.axes._subplots.AxesSubplot at 0x7f867b43b450>"
            ]
          },
          "metadata": {},
          "execution_count": 89
        },
        {
          "output_type": "display_data",
          "data": {
            "image/png": "[encoded data removed]",
            "text/plain": [
              "<Figure size 432x288 with 1 Axes>"
            ]
          },
          "metadata": {
            "needs_background": "light"
          }
        }
      ]
    },
    {
      "cell_type": "code",
      "metadata": {
        "colab": {
          "base_uri": "https://localhost:8080/",
          "height": 366
        },
        "id": "Syhux_AoSnKf",
        "outputId": "bedb4003-c1e1-421f-c100-544d9c34e579"
      },
      "source": [
        "print('Средняя цена билета для класса 3', round(dataset[dataset['Pclass'] == 3]['Fare'].mean(), 2))\n",
        "sns.boxplot(dataset[dataset['Pclass'] == 3]['Fare'])"
      ],
      "execution_count": 90,
      "outputs": [
        {
          "output_type": "stream",
          "name": "stdout",
          "text": [
            "Средняя цена билета для класса 3 13.68\n"
          ]
        },
        {
          "output_type": "stream",
          "name": "stderr",
          "text": [
            "/usr/local/lib/python3.7/dist-packages/seaborn/_decorators.py:43: FutureWarning: Pass the following variable as a keyword arg: x. From version 0.12, the only valid positional argument will be `data`, and passing other arguments without an explicit keyword will result in an error or misinterpretation.\n",
            "  FutureWarning\n"
          ]
        },
        {
          "output_type": "execute_result",
          "data": {
            "text/plain": [
              "<matplotlib.axes._subplots.AxesSubplot at 0x7f867b3ae390>"
            ]
          },
          "metadata": {},
          "execution_count": 90
        },
        {
          "output_type": "display_data",
          "data": {
            "image/png": "[encoded data removed]",
            "text/plain": [
              "<Figure size 432x288 with 1 Axes>"
            ]
          },
          "metadata": {
            "needs_background": "light"
          }
        }
      ]
    }
  ]
}