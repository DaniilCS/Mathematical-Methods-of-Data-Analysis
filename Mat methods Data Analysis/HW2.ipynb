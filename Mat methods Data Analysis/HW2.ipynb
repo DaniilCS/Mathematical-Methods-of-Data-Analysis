{
  "nbformat": 4,
  "nbformat_minor": 0,
  "metadata": {
    "kernelspec": {
      "display_name": "Python 3",
      "language": "python",
      "name": "python3"
    },
    "language_info": {
      "codemirror_mode": {
        "name": "ipython",
        "version": 3
      },
      "file_extension": ".py",
      "mimetype": "text/x-python",
      "name": "python",
      "nbconvert_exporter": "python",
      "pygments_lexer": "ipython3",
      "version": "3.8.5"
    },
    "colab": {
      "name": "hw2 (1).ipynb",
      "provenance": [],
      "collapsed_sections": []
    }
  },
  "cells": [
    {
      "cell_type": "markdown",
      "metadata": {
        "id": "_IvoZ9L35hVi"
      },
      "source": [
        "# HSE 2021: Mathematical Methods for Data Analysis\n",
        "\n",
        "## Homework 2\n",
        "\n",
        "### Attention!\n",
        "* For tasks where <ins>text answer</ins> is required **Russian language** is **allowed**.\n",
        "* If a task asks you to describe something (make coclusions) then **text answer** is **mandatory** and **is** part of the task\n",
        "* We **only** accept **ipynb** notebooks. If you use Google Colab then you'll have to download the notebook before passing the homework\n",
        "* **Do not** use python loops instead of NumPy vector operations over NumPy vectors - it significantly decreases performance (see why https://blog.paperspace.com/numpy-optimization-vectorization-and-broadcasting/), will be punished with -0.25 for **every** task. "
      ]
    },
    {
      "cell_type": "code",
      "metadata": {
        "ExecuteTime": {
          "end_time": "2020-09-26T16:48:20.566549Z",
          "start_time": "2020-09-26T16:48:19.893995Z"
        },
        "id": "gbV84WHl5hVm"
      },
      "source": [
        "import pandas as pd\n",
        "import numpy as np\n",
        "import matplotlib.pyplot as plt\n",
        "import seaborn as sns\n",
        "import sklearn\n",
        "from sklearn import datasets\n",
        "from sklearn.datasets import load_boston\n",
        "\n",
        "%matplotlib inline\n",
        "\n",
        "sns.set(style=\"darkgrid\")"
      ],
      "execution_count": 66,
      "outputs": []
    },
    {
      "cell_type": "markdown",
      "metadata": {
        "id": "9aiRrjDM5hVn"
      },
      "source": [
        "### Data\n",
        "\n",
        "For this homework we use Boston Dataset from sklearn (based on UCI ML housing dataset)."
      ]
    },
    {
      "cell_type": "code",
      "metadata": {
        "id": "ajO2EBoD5hVo"
      },
      "source": [
        "data = load_boston() # load dataset\n",
        "\n",
        "X = data.data\n",
        "y = data.target\n",
        "columns = data.feature_names"
      ],
      "execution_count": 67,
      "outputs": []
    },
    {
      "cell_type": "markdown",
      "metadata": {
        "id": "k-re-xLb5hVo"
      },
      "source": [
        "## Linear regression"
      ]
    },
    {
      "cell_type": "markdown",
      "metadata": {
        "id": "zQh9Fku05hVp"
      },
      "source": [
        "#### 1. [0.5 points] \n",
        "Create Pandas DataFrame and split the data into train and test sets with ratio 80:20 with random_state=0."
      ]
    },
    {
      "cell_type": "code",
      "metadata": {
        "colab": {
          "base_uri": "https://localhost:8080/",
          "height": 203
        },
        "id": "NbVm_DCe5hVp",
        "outputId": "19bb36ad-06ad-4108-d9f8-7f018939ab74"
      },
      "source": [
        "# your code here \n",
        "#╰( ͡° ͜ʖ ͡° )つ──☆*:・ﾟ\n",
        "from sklearn.model_selection import train_test_split\n",
        "X_train, X_test, y_train, y_test = train_test_split(X, y, test_size=0.2, random_state=0)\n",
        "X_train = pd.DataFrame(data = X_train, columns= columns)\n",
        "X_train.head()"
      ],
      "execution_count": 68,
      "outputs": [
        {
          "output_type": "execute_result",
          "data": {
            "text/html": [
              "<div>\n",
              "<style scoped>\n",
              "    .dataframe tbody tr th:only-of-type {\n",
              "        vertical-align: middle;\n",
              "    }\n",
              "\n",
              "    .dataframe tbody tr th {\n",
              "        vertical-align: top;\n",
              "    }\n",
              "\n",
              "    .dataframe thead th {\n",
              "        text-align: right;\n",
              "    }\n",
              "</style>\n",
              "<table border=\"1\" class=\"dataframe\">\n",
              "  <thead>\n",
              "    <tr style=\"text-align: right;\">\n",
              "      <th></th>\n",
              "      <th>CRIM</th>\n",
              "      <th>ZN</th>\n",
              "      <th>INDUS</th>\n",
              "      <th>CHAS</th>\n",
              "      <th>NOX</th>\n",
              "      <th>RM</th>\n",
              "      <th>AGE</th>\n",
              "      <th>DIS</th>\n",
              "      <th>RAD</th>\n",
              "      <th>TAX</th>\n",
              "      <th>PTRATIO</th>\n",
              "      <th>B</th>\n",
              "      <th>LSTAT</th>\n",
              "    </tr>\n",
              "  </thead>\n",
              "  <tbody>\n",
              "    <tr>\n",
              "      <th>0</th>\n",
              "      <td>0.35809</td>\n",
              "      <td>0.0</td>\n",
              "      <td>6.20</td>\n",
              "      <td>1.0</td>\n",
              "      <td>0.507</td>\n",
              "      <td>6.951</td>\n",
              "      <td>88.5</td>\n",
              "      <td>2.8617</td>\n",
              "      <td>8.0</td>\n",
              "      <td>307.0</td>\n",
              "      <td>17.4</td>\n",
              "      <td>391.70</td>\n",
              "      <td>9.71</td>\n",
              "    </tr>\n",
              "    <tr>\n",
              "      <th>1</th>\n",
              "      <td>0.15876</td>\n",
              "      <td>0.0</td>\n",
              "      <td>10.81</td>\n",
              "      <td>0.0</td>\n",
              "      <td>0.413</td>\n",
              "      <td>5.961</td>\n",
              "      <td>17.5</td>\n",
              "      <td>5.2873</td>\n",
              "      <td>4.0</td>\n",
              "      <td>305.0</td>\n",
              "      <td>19.2</td>\n",
              "      <td>376.94</td>\n",
              "      <td>9.88</td>\n",
              "    </tr>\n",
              "    <tr>\n",
              "      <th>2</th>\n",
              "      <td>0.11329</td>\n",
              "      <td>30.0</td>\n",
              "      <td>4.93</td>\n",
              "      <td>0.0</td>\n",
              "      <td>0.428</td>\n",
              "      <td>6.897</td>\n",
              "      <td>54.3</td>\n",
              "      <td>6.3361</td>\n",
              "      <td>6.0</td>\n",
              "      <td>300.0</td>\n",
              "      <td>16.6</td>\n",
              "      <td>391.25</td>\n",
              "      <td>11.38</td>\n",
              "    </tr>\n",
              "    <tr>\n",
              "      <th>3</th>\n",
              "      <td>0.08829</td>\n",
              "      <td>12.5</td>\n",
              "      <td>7.87</td>\n",
              "      <td>0.0</td>\n",
              "      <td>0.524</td>\n",
              "      <td>6.012</td>\n",
              "      <td>66.6</td>\n",
              "      <td>5.5605</td>\n",
              "      <td>5.0</td>\n",
              "      <td>311.0</td>\n",
              "      <td>15.2</td>\n",
              "      <td>395.60</td>\n",
              "      <td>12.43</td>\n",
              "    </tr>\n",
              "    <tr>\n",
              "      <th>4</th>\n",
              "      <td>25.94060</td>\n",
              "      <td>0.0</td>\n",
              "      <td>18.10</td>\n",
              "      <td>0.0</td>\n",
              "      <td>0.679</td>\n",
              "      <td>5.304</td>\n",
              "      <td>89.1</td>\n",
              "      <td>1.6475</td>\n",
              "      <td>24.0</td>\n",
              "      <td>666.0</td>\n",
              "      <td>20.2</td>\n",
              "      <td>127.36</td>\n",
              "      <td>26.64</td>\n",
              "    </tr>\n",
              "  </tbody>\n",
              "</table>\n",
              "</div>"
            ],
            "text/plain": [
              "       CRIM    ZN  INDUS  CHAS    NOX  ...   RAD    TAX  PTRATIO       B  LSTAT\n",
              "0   0.35809   0.0   6.20   1.0  0.507  ...   8.0  307.0     17.4  391.70   9.71\n",
              "1   0.15876   0.0  10.81   0.0  0.413  ...   4.0  305.0     19.2  376.94   9.88\n",
              "2   0.11329  30.0   4.93   0.0  0.428  ...   6.0  300.0     16.6  391.25  11.38\n",
              "3   0.08829  12.5   7.87   0.0  0.524  ...   5.0  311.0     15.2  395.60  12.43\n",
              "4  25.94060   0.0  18.10   0.0  0.679  ...  24.0  666.0     20.2  127.36  26.64\n",
              "\n",
              "[5 rows x 13 columns]"
            ]
          },
          "metadata": {},
          "execution_count": 68
        }
      ]
    },
    {
      "cell_type": "markdown",
      "metadata": {
        "id": "eDssBzvp5hVp"
      },
      "source": [
        "---\n",
        "#### 2. [1 point] \n",
        "Train models on train data using StatsModels( or sckit-learn) library and apply it to the test set; use $RMSE$ and $R^2$ as the quality measure.\n",
        "\n",
        "* [`LinearRegression`](http://scikit-learn.org/stable/modules/generated/sklearn.linear_model.LinearRegression.html);\n",
        "* [`Ridge`](http://scikit-learn.org/stable/modules/generated/sklearn.linear_model.Ridge.html) with $\\alpha = 0.01$;\n",
        "* [`Lasso`](http://scikit-learn.org/stable/modules/generated/sklearn.linear_model.Lasso.html) with $\\alpha = 0.01$\n",
        "\n",
        "Don't forget to scale the data before training the models with StandardScaler!"
      ]
    },
    {
      "cell_type": "code",
      "metadata": {
        "colab": {
          "base_uri": "https://localhost:8080/"
        },
        "id": "291M4TH75hVq",
        "outputId": "125df9f9-af29-439e-8434-12554ef330eb"
      },
      "source": [
        "# your code here \n",
        "#╰( ͡° ͜ʖ ͡° )つ──☆*:・ﾟ\n",
        "from sklearn.metrics import r2_score\n",
        "from sklearn.metrics import mean_squared_error\n",
        "from sklearn.preprocessing import StandardScaler\n",
        "scaller = StandardScaler()\n",
        "X_train = scaller.fit_transform(X_train)\n",
        "X_test = scaller.transform(X_test)\n",
        "\n",
        "from sklearn.linear_model import LinearRegression\n",
        "lin_rg = LinearRegression()\n",
        "lin_rg.fit(X_train, y_train)\n",
        "pred = lin_rg.predict(X_test)\n",
        "print(r2_score(pred, y_test))\n",
        "print(mean_squared_error(pred, y_test) ** 0.5, '\\n')\n",
        "\n",
        "from sklearn.linear_model import Ridge\n",
        "ridge = Ridge(alpha = 0.5)\n",
        "ridge.fit(X_train, y_train)\n",
        "pred = ridge.predict(X_test)\n",
        "print(r2_score(pred, y_test))\n",
        "print(mean_squared_error(pred, y_test) ** 0.5, '\\n')\n",
        "\n",
        "from sklearn.linear_model import Lasso\n",
        "lasso = Lasso(alpha = 0.5)\n",
        "lasso.fit(X_train, y_train)\n",
        "pred = lasso.predict(X_test)\n",
        "print(r2_score(pred, y_test))\n",
        "print(mean_squared_error(pred, y_test) ** 0.5, '\\n')"
      ],
      "execution_count": 69,
      "outputs": [
        {
          "output_type": "stream",
          "name": "stdout",
          "text": [
            "0.3523653008788691\n",
            "5.783509315085134 \n",
            "\n",
            "0.3511027436346723\n",
            "5.78733207930106 \n",
            "\n",
            "0.14400798004973614\n",
            "6.304209093307778 \n",
            "\n"
          ]
        }
      ]
    },
    {
      "cell_type": "markdown",
      "metadata": {
        "id": "DO7KWs2V5hVr"
      },
      "source": [
        "---\n",
        "#### 3. [1 point] \n",
        "Explore the values of the parameters of the resulting models and compare the number of zero weights in them. \n",
        "\n",
        "Comment on the significance of the coefficients, overal model significance and other related factors from the results table. \n",
        "\n",
        "`Hint` Use StatModels to obtain significance of the coefficients. They ca be found on the `summary` of the fitted linear model. \n",
        "It might be tricky to obtain `summary` for the regularized model. Please, read the documentation of the StatModels library to figure out how to do that, e.g.   [OLSResults](https://www.statsmodels.org/stable/generated/statsmodels.regression.linear_model.OLSResults.html#statsmodels.regression.linear_model.OLSResults) class might be useful here."
      ]
    },
    {
      "cell_type": "code",
      "metadata": {
        "colab": {
          "base_uri": "https://localhost:8080/",
          "height": 532
        },
        "id": "w49HA9wF5hVr",
        "outputId": "650fba17-f9ca-47d3-e012-15c57d3b54ff"
      },
      "source": [
        "# your code here \n",
        "#╰( ͡° ͜ʖ ͡° )つ──☆*:・ﾟ\n",
        "from statsmodels.regression.linear_model import OLSResults\n",
        "import statsmodels.api as sm\n",
        "from statsmodels.regression.linear_model import OLSResults\n",
        "model = sm.OLS(y_train, X_train)\n",
        "results = model.fit()\n",
        "results.summary2()"
      ],
      "execution_count": 70,
      "outputs": [
        {
          "output_type": "execute_result",
          "data": {
            "text/html": [
              "<table class=\"simpletable\">\n",
              "<tr>\n",
              "          <td>Model:</td>                 <td>OLS</td>       <td>Adj. R-squared (uncentered):</td>   <td>0.081</td>  \n",
              "</tr>\n",
              "<tr>\n",
              "    <td>Dependent Variable:</td>           <td>y</td>                    <td>AIC:</td>             <td>3707.2197</td>\n",
              "</tr>\n",
              "<tr>\n",
              "           <td>Date:</td>          <td>2021-10-11 18:36</td>             <td>BIC:</td>             <td>3759.2381</td>\n",
              "</tr>\n",
              "<tr>\n",
              "     <td>No. Observations:</td>           <td>404</td>              <td>Log-Likelihood:</td>        <td>-1840.6</td> \n",
              "</tr>\n",
              "<tr>\n",
              "         <td>Df Model:</td>               <td>13</td>                <td>F-statistic:</td>           <td>3.731</td>  \n",
              "</tr>\n",
              "<tr>\n",
              "       <td>Df Residuals:</td>             <td>391</td>            <td>Prob (F-statistic):</td>     <td>1.24e-05</td> \n",
              "</tr>\n",
              "<tr>\n",
              "  <td>R-squared (uncentered):</td>       <td>0.110</td>                 <td>Scale:</td>             <td>548.27</td>  \n",
              "</tr>\n",
              "</table>\n",
              "<table class=\"simpletable\">\n",
              "<tr>\n",
              "   <td></td>    <th>Coef.</th>  <th>Std.Err.</th>    <th>t</th>     <th>P>|t|</th> <th>[0.025</th>  <th>0.975]</th>\n",
              "</tr>\n",
              "<tr>\n",
              "  <th>x1</th>  <td>-0.9708</td>  <td>1.5596</td>  <td>-0.6225</td> <td>0.5340</td> <td>-4.0371</td> <td>2.0955</td>\n",
              "</tr>\n",
              "<tr>\n",
              "  <th>x2</th>  <td>1.0571</td>   <td>1.7833</td>  <td>0.5928</td>  <td>0.5537</td> <td>-2.4489</td> <td>4.5632</td>\n",
              "</tr>\n",
              "<tr>\n",
              "  <th>x3</th>  <td>0.0383</td>   <td>2.3175</td>  <td>0.0165</td>  <td>0.9868</td> <td>-4.5180</td> <td>4.5946</td>\n",
              "</tr>\n",
              "<tr>\n",
              "  <th>x4</th>  <td>0.5945</td>   <td>1.1991</td>  <td>0.4958</td>  <td>0.6203</td> <td>-1.7629</td> <td>2.9519</td>\n",
              "</tr>\n",
              "<tr>\n",
              "  <th>x5</th>  <td>-1.8551</td>  <td>2.5360</td>  <td>-0.7315</td> <td>0.4649</td> <td>-6.8410</td> <td>3.1307</td>\n",
              "</tr>\n",
              "<tr>\n",
              "  <th>x6</th>  <td>2.5732</td>   <td>1.6613</td>  <td>1.5489</td>  <td>0.1222</td> <td>-0.6929</td> <td>5.8394</td>\n",
              "</tr>\n",
              "<tr>\n",
              "  <th>x7</th>  <td>-0.0876</td>  <td>2.1050</td>  <td>-0.0416</td> <td>0.9668</td> <td>-4.2261</td> <td>4.0509</td>\n",
              "</tr>\n",
              "<tr>\n",
              "  <th>x8</th>  <td>-2.8809</td>  <td>2.3266</td>  <td>-1.2383</td> <td>0.2164</td> <td>-7.4552</td> <td>1.6933</td>\n",
              "</tr>\n",
              "<tr>\n",
              "  <th>x9</th>  <td>2.1122</td>   <td>3.1759</td>  <td>0.6651</td>  <td>0.5064</td> <td>-4.1317</td> <td>8.3562</td>\n",
              "</tr>\n",
              "<tr>\n",
              "  <th>x10</th> <td>-1.8753</td>  <td>3.4812</td>  <td>-0.5387</td> <td>0.5904</td> <td>-8.7196</td> <td>4.9689</td>\n",
              "</tr>\n",
              "<tr>\n",
              "  <th>x11</th> <td>-2.2928</td>  <td>1.5713</td>  <td>-1.4591</td> <td>0.1453</td> <td>-5.3820</td> <td>0.7965</td>\n",
              "</tr>\n",
              "<tr>\n",
              "  <th>x12</th> <td>0.7182</td>   <td>1.3674</td>  <td>0.5252</td>  <td>0.5997</td> <td>-1.9701</td> <td>3.4065</td>\n",
              "</tr>\n",
              "<tr>\n",
              "  <th>x13</th> <td>-3.5925</td>  <td>2.0692</td>  <td>-1.7362</td> <td>0.0833</td> <td>-7.6606</td> <td>0.4757</td>\n",
              "</tr>\n",
              "</table>\n",
              "<table class=\"simpletable\">\n",
              "<tr>\n",
              "     <td>Omnibus:</td>    <td>141.494</td>  <td>Durbin-Watson:</td>    <td>0.073</td> \n",
              "</tr>\n",
              "<tr>\n",
              "  <td>Prob(Omnibus):</td>  <td>0.000</td>  <td>Jarque-Bera (JB):</td> <td>629.882</td>\n",
              "</tr>\n",
              "<tr>\n",
              "       <td>Skew:</td>      <td>1.470</td>      <td>Prob(JB):</td>      <td>0.000</td> \n",
              "</tr>\n",
              "<tr>\n",
              "     <td>Kurtosis:</td>    <td>8.365</td>   <td>Condition No.:</td>     <td>10</td>   \n",
              "</tr>\n",
              "</table>"
            ],
            "text/plain": [
              "<class 'statsmodels.iolib.summary2.Summary'>\n",
              "\"\"\"\n",
              "                        Results: Ordinary least squares\n",
              "===============================================================================\n",
              "Model:                  OLS              Adj. R-squared (uncentered): 0.081    \n",
              "Dependent Variable:     y                AIC:                         3707.2197\n",
              "Date:                   2021-10-11 18:36 BIC:                         3759.2381\n",
              "No. Observations:       404              Log-Likelihood:              -1840.6  \n",
              "Df Model:               13               F-statistic:                 3.731    \n",
              "Df Residuals:           391              Prob (F-statistic):          1.24e-05 \n",
              "R-squared (uncentered): 0.110            Scale:                       548.27   \n",
              "------------------------------------------------------------------------------------\n",
              "              Coef.       Std.Err.         t         P>|t|        [0.025      0.975]\n",
              "------------------------------------------------------------------------------------\n",
              "x1           -0.9708        1.5596      -0.6225      0.5340      -4.0371      2.0955\n",
              "x2            1.0571        1.7833       0.5928      0.5537      -2.4489      4.5632\n",
              "x3            0.0383        2.3175       0.0165      0.9868      -4.5180      4.5946\n",
              "x4            0.5945        1.1991       0.4958      0.6203      -1.7629      2.9519\n",
              "x5           -1.8551        2.5360      -0.7315      0.4649      -6.8410      3.1307\n",
              "x6            2.5732        1.6613       1.5489      0.1222      -0.6929      5.8394\n",
              "x7           -0.0876        2.1050      -0.0416      0.9668      -4.2261      4.0509\n",
              "x8           -2.8809        2.3266      -1.2383      0.2164      -7.4552      1.6933\n",
              "x9            2.1122        3.1759       0.6651      0.5064      -4.1317      8.3562\n",
              "x10          -1.8753        3.4812      -0.5387      0.5904      -8.7196      4.9689\n",
              "x11          -2.2928        1.5713      -1.4591      0.1453      -5.3820      0.7965\n",
              "x12           0.7182        1.3674       0.5252      0.5997      -1.9701      3.4065\n",
              "x13          -3.5925        2.0692      -1.7362      0.0833      -7.6606      0.4757\n",
              "-------------------------------------------------------------------------------\n",
              "Omnibus:                  141.494           Durbin-Watson:              0.073  \n",
              "Prob(Omnibus):            0.000             Jarque-Bera (JB):           629.882\n",
              "Skew:                     1.470             Prob(JB):                   0.000  \n",
              "Kurtosis:                 8.365             Condition No.:              10     \n",
              "===============================================================================\n",
              "\n",
              "\"\"\""
            ]
          },
          "metadata": {},
          "execution_count": 70
        }
      ]
    },
    {
      "cell_type": "code",
      "metadata": {
        "colab": {
          "base_uri": "https://localhost:8080/",
          "height": 657
        },
        "id": "GpiefIMArIWU",
        "outputId": "1c64e383-d01e-433f-cbd2-0f33c0fb6caa"
      },
      "source": [
        "final = sm.regression.linear_model.OLSResults(model, \n",
        "                                              ridge.coef_, \n",
        "                                              model.normalized_cov_params)\n",
        "final.summary()"
      ],
      "execution_count": 71,
      "outputs": [
        {
          "output_type": "execute_result",
          "data": {
            "text/html": [
              "<table class=\"simpletable\">\n",
              "<caption>OLS Regression Results</caption>\n",
              "<tr>\n",
              "  <th>Dep. Variable:</th>            <td>y</td>        <th>  R-squared (uncentered):</th>      <td>   0.110</td>\n",
              "</tr>\n",
              "<tr>\n",
              "  <th>Model:</th>                   <td>OLS</td>       <th>  Adj. R-squared (uncentered):</th> <td>   0.081</td>\n",
              "</tr>\n",
              "<tr>\n",
              "  <th>Method:</th>             <td>Least Squares</td>  <th>  F-statistic:       </th>          <td>   3.731</td>\n",
              "</tr>\n",
              "<tr>\n",
              "  <th>Date:</th>             <td>Mon, 11 Oct 2021</td> <th>  Prob (F-statistic):</th>          <td>1.24e-05</td>\n",
              "</tr>\n",
              "<tr>\n",
              "  <th>Time:</th>                 <td>18:36:47</td>     <th>  Log-Likelihood:    </th>          <td> -1840.6</td>\n",
              "</tr>\n",
              "<tr>\n",
              "  <th>No. Observations:</th>      <td>   404</td>      <th>  AIC:               </th>          <td>   3707.</td>\n",
              "</tr>\n",
              "<tr>\n",
              "  <th>Df Residuals:</th>          <td>   391</td>      <th>  BIC:               </th>          <td>   3759.</td>\n",
              "</tr>\n",
              "<tr>\n",
              "  <th>Df Model:</th>              <td>    13</td>      <th>                     </th>              <td> </td>   \n",
              "</tr>\n",
              "<tr>\n",
              "  <th>Covariance Type:</th>      <td>nonrobust</td>    <th>                     </th>              <td> </td>   \n",
              "</tr>\n",
              "</table>\n",
              "<table class=\"simpletable\">\n",
              "<tr>\n",
              "   <td></td>      <th>coef</th>     <th>std err</th>      <th>t</th>      <th>P>|t|</th>  <th>[0.025</th>    <th>0.975]</th>  \n",
              "</tr>\n",
              "<tr>\n",
              "  <th>x1</th>  <td>   -0.9665</td> <td>    1.560</td> <td>   -0.620</td> <td> 0.536</td> <td>   -4.033</td> <td>    2.100</td>\n",
              "</tr>\n",
              "<tr>\n",
              "  <th>x2</th>  <td>    1.0489</td> <td>    1.783</td> <td>    0.588</td> <td> 0.557</td> <td>   -2.457</td> <td>    4.555</td>\n",
              "</tr>\n",
              "<tr>\n",
              "  <th>x3</th>  <td>    0.0247</td> <td>    2.317</td> <td>    0.011</td> <td> 0.991</td> <td>   -4.532</td> <td>    4.581</td>\n",
              "</tr>\n",
              "<tr>\n",
              "  <th>x4</th>  <td>    0.5967</td> <td>    1.199</td> <td>    0.498</td> <td> 0.619</td> <td>   -1.761</td> <td>    2.954</td>\n",
              "</tr>\n",
              "<tr>\n",
              "  <th>x5</th>  <td>   -1.8375</td> <td>    2.536</td> <td>   -0.725</td> <td> 0.469</td> <td>   -6.823</td> <td>    3.148</td>\n",
              "</tr>\n",
              "<tr>\n",
              "  <th>x6</th>  <td>    2.5786</td> <td>    1.661</td> <td>    1.552</td> <td> 0.121</td> <td>   -0.688</td> <td>    5.845</td>\n",
              "</tr>\n",
              "<tr>\n",
              "  <th>x7</th>  <td>   -0.0915</td> <td>    2.105</td> <td>   -0.043</td> <td> 0.965</td> <td>   -4.230</td> <td>    4.047</td>\n",
              "</tr>\n",
              "<tr>\n",
              "  <th>x8</th>  <td>   -2.8645</td> <td>    2.327</td> <td>   -1.231</td> <td> 0.219</td> <td>   -7.439</td> <td>    1.710</td>\n",
              "</tr>\n",
              "<tr>\n",
              "  <th>x9</th>  <td>    2.0736</td> <td>    3.176</td> <td>    0.653</td> <td> 0.514</td> <td>   -4.170</td> <td>    8.317</td>\n",
              "</tr>\n",
              "<tr>\n",
              "  <th>x10</th> <td>   -1.8400</td> <td>    3.481</td> <td>   -0.529</td> <td> 0.597</td> <td>   -8.684</td> <td>    5.004</td>\n",
              "</tr>\n",
              "<tr>\n",
              "  <th>x11</th> <td>   -2.2879</td> <td>    1.571</td> <td>   -1.456</td> <td> 0.146</td> <td>   -5.377</td> <td>    0.801</td>\n",
              "</tr>\n",
              "<tr>\n",
              "  <th>x12</th> <td>    0.7182</td> <td>    1.367</td> <td>    0.525</td> <td> 0.600</td> <td>   -1.970</td> <td>    3.407</td>\n",
              "</tr>\n",
              "<tr>\n",
              "  <th>x13</th> <td>   -3.5842</td> <td>    2.069</td> <td>   -1.732</td> <td> 0.084</td> <td>   -7.652</td> <td>    0.484</td>\n",
              "</tr>\n",
              "</table>\n",
              "<table class=\"simpletable\">\n",
              "<tr>\n",
              "  <th>Omnibus:</th>       <td>142.324</td> <th>  Durbin-Watson:     </th> <td>   0.073</td> \n",
              "</tr>\n",
              "<tr>\n",
              "  <th>Prob(Omnibus):</th> <td> 0.000</td>  <th>  Jarque-Bera (JB):  </th> <td> 638.431</td> \n",
              "</tr>\n",
              "<tr>\n",
              "  <th>Skew:</th>          <td> 1.476</td>  <th>  Prob(JB):          </th> <td>2.33e-139</td>\n",
              "</tr>\n",
              "<tr>\n",
              "  <th>Kurtosis:</th>      <td> 8.404</td>  <th>  Cond. No.          </th> <td>    9.81</td> \n",
              "</tr>\n",
              "</table><br/><br/>Warnings:<br/>[1] Standard Errors assume that the covariance matrix of the errors is correctly specified."
            ],
            "text/plain": [
              "<class 'statsmodels.iolib.summary.Summary'>\n",
              "\"\"\"\n",
              "                                 OLS Regression Results                                \n",
              "=======================================================================================\n",
              "Dep. Variable:                      y   R-squared (uncentered):                   0.110\n",
              "Model:                            OLS   Adj. R-squared (uncentered):              0.081\n",
              "Method:                 Least Squares   F-statistic:                              3.731\n",
              "Date:                Mon, 11 Oct 2021   Prob (F-statistic):                    1.24e-05\n",
              "Time:                        18:36:47   Log-Likelihood:                         -1840.6\n",
              "No. Observations:                 404   AIC:                                      3707.\n",
              "Df Residuals:                     391   BIC:                                      3759.\n",
              "Df Model:                          13                                                  \n",
              "Covariance Type:            nonrobust                                                  \n",
              "==============================================================================\n",
              "                 coef    std err          t      P>|t|      [0.025      0.975]\n",
              "------------------------------------------------------------------------------\n",
              "x1            -0.9665      1.560     -0.620      0.536      -4.033       2.100\n",
              "x2             1.0489      1.783      0.588      0.557      -2.457       4.555\n",
              "x3             0.0247      2.317      0.011      0.991      -4.532       4.581\n",
              "x4             0.5967      1.199      0.498      0.619      -1.761       2.954\n",
              "x5            -1.8375      2.536     -0.725      0.469      -6.823       3.148\n",
              "x6             2.5786      1.661      1.552      0.121      -0.688       5.845\n",
              "x7            -0.0915      2.105     -0.043      0.965      -4.230       4.047\n",
              "x8            -2.8645      2.327     -1.231      0.219      -7.439       1.710\n",
              "x9             2.0736      3.176      0.653      0.514      -4.170       8.317\n",
              "x10           -1.8400      3.481     -0.529      0.597      -8.684       5.004\n",
              "x11           -2.2879      1.571     -1.456      0.146      -5.377       0.801\n",
              "x12            0.7182      1.367      0.525      0.600      -1.970       3.407\n",
              "x13           -3.5842      2.069     -1.732      0.084      -7.652       0.484\n",
              "==============================================================================\n",
              "Omnibus:                      142.324   Durbin-Watson:                   0.073\n",
              "Prob(Omnibus):                  0.000   Jarque-Bera (JB):              638.431\n",
              "Skew:                           1.476   Prob(JB):                    2.33e-139\n",
              "Kurtosis:                       8.404   Cond. No.                         9.81\n",
              "==============================================================================\n",
              "\n",
              "Warnings:\n",
              "[1] Standard Errors assume that the covariance matrix of the errors is correctly specified.\n",
              "\"\"\""
            ]
          },
          "metadata": {},
          "execution_count": 71
        }
      ]
    },
    {
      "cell_type": "code",
      "metadata": {
        "colab": {
          "base_uri": "https://localhost:8080/",
          "height": 657
        },
        "id": "DhiYSClfuCKA",
        "outputId": "4f17c18f-2c5d-4654-c54e-78a61499749b"
      },
      "source": [
        "final = sm.regression.linear_model.OLSResults(model, \n",
        "                                              lasso.coef_, \n",
        "                                              model.normalized_cov_params)\n",
        "final.summary()"
      ],
      "execution_count": 72,
      "outputs": [
        {
          "output_type": "execute_result",
          "data": {
            "text/html": [
              "<table class=\"simpletable\">\n",
              "<caption>OLS Regression Results</caption>\n",
              "<tr>\n",
              "  <th>Dep. Variable:</th>            <td>y</td>        <th>  R-squared (uncentered):</th>      <td>   0.104</td>\n",
              "</tr>\n",
              "<tr>\n",
              "  <th>Model:</th>                   <td>OLS</td>       <th>  Adj. R-squared (uncentered):</th> <td>   0.075</td>\n",
              "</tr>\n",
              "<tr>\n",
              "  <th>Method:</th>             <td>Least Squares</td>  <th>  F-statistic:       </th>          <td>   3.507</td>\n",
              "</tr>\n",
              "<tr>\n",
              "  <th>Date:</th>             <td>Mon, 11 Oct 2021</td> <th>  Prob (F-statistic):</th>          <td>3.41e-05</td>\n",
              "</tr>\n",
              "<tr>\n",
              "  <th>Time:</th>                 <td>18:36:47</td>     <th>  Log-Likelihood:    </th>          <td> -1842.0</td>\n",
              "</tr>\n",
              "<tr>\n",
              "  <th>No. Observations:</th>      <td>   404</td>      <th>  AIC:               </th>          <td>   3710.</td>\n",
              "</tr>\n",
              "<tr>\n",
              "  <th>Df Residuals:</th>          <td>   391</td>      <th>  BIC:               </th>          <td>   3762.</td>\n",
              "</tr>\n",
              "<tr>\n",
              "  <th>Df Model:</th>              <td>    13</td>      <th>                     </th>              <td> </td>   \n",
              "</tr>\n",
              "<tr>\n",
              "  <th>Covariance Type:</th>      <td>nonrobust</td>    <th>                     </th>              <td> </td>   \n",
              "</tr>\n",
              "</table>\n",
              "<table class=\"simpletable\">\n",
              "<tr>\n",
              "   <td></td>      <th>coef</th>     <th>std err</th>      <th>t</th>      <th>P>|t|</th>  <th>[0.025</th>    <th>0.975]</th>  \n",
              "</tr>\n",
              "<tr>\n",
              "  <th>x1</th>  <td>   -0.2469</td> <td>    1.565</td> <td>   -0.158</td> <td> 0.875</td> <td>   -3.323</td> <td>    2.830</td>\n",
              "</tr>\n",
              "<tr>\n",
              "  <th>x2</th>  <td>         0</td> <td>    1.789</td> <td>        0</td> <td> 1.000</td> <td>   -3.518</td> <td>    3.518</td>\n",
              "</tr>\n",
              "<tr>\n",
              "  <th>x3</th>  <td>        -0</td> <td>    2.325</td> <td>       -0</td> <td> 1.000</td> <td>   -4.571</td> <td>    4.571</td>\n",
              "</tr>\n",
              "<tr>\n",
              "  <th>x4</th>  <td>    0.3420</td> <td>    1.203</td> <td>    0.284</td> <td> 0.776</td> <td>   -2.023</td> <td>    2.707</td>\n",
              "</tr>\n",
              "<tr>\n",
              "  <th>x5</th>  <td>        -0</td> <td>    2.544</td> <td>       -0</td> <td> 1.000</td> <td>   -5.002</td> <td>    5.002</td>\n",
              "</tr>\n",
              "<tr>\n",
              "  <th>x6</th>  <td>    2.8508</td> <td>    1.667</td> <td>    1.710</td> <td> 0.088</td> <td>   -0.426</td> <td>    6.128</td>\n",
              "</tr>\n",
              "<tr>\n",
              "  <th>x7</th>  <td>        -0</td> <td>    2.112</td> <td>       -0</td> <td> 1.000</td> <td>   -4.152</td> <td>    4.152</td>\n",
              "</tr>\n",
              "<tr>\n",
              "  <th>x8</th>  <td>        -0</td> <td>    2.334</td> <td>       -0</td> <td> 1.000</td> <td>   -4.589</td> <td>    4.589</td>\n",
              "</tr>\n",
              "<tr>\n",
              "  <th>x9</th>  <td>        -0</td> <td>    3.186</td> <td>       -0</td> <td> 1.000</td> <td>   -6.265</td> <td>    6.265</td>\n",
              "</tr>\n",
              "<tr>\n",
              "  <th>x10</th> <td>   -0.2149</td> <td>    3.493</td> <td>   -0.062</td> <td> 0.951</td> <td>   -7.082</td> <td>    6.652</td>\n",
              "</tr>\n",
              "<tr>\n",
              "  <th>x11</th> <td>   -2.0123</td> <td>    1.577</td> <td>   -1.276</td> <td> 0.203</td> <td>   -5.112</td> <td>    1.087</td>\n",
              "</tr>\n",
              "<tr>\n",
              "  <th>x12</th> <td>    0.4265</td> <td>    1.372</td> <td>    0.311</td> <td> 0.756</td> <td>   -2.271</td> <td>    3.124</td>\n",
              "</tr>\n",
              "<tr>\n",
              "  <th>x13</th> <td>   -3.5219</td> <td>    2.076</td> <td>   -1.696</td> <td> 0.091</td> <td>   -7.604</td> <td>    0.560</td>\n",
              "</tr>\n",
              "</table>\n",
              "<table class=\"simpletable\">\n",
              "<tr>\n",
              "  <th>Omnibus:</th>       <td>166.428</td> <th>  Durbin-Watson:     </th> <td>   0.083</td> \n",
              "</tr>\n",
              "<tr>\n",
              "  <th>Prob(Omnibus):</th> <td> 0.000</td>  <th>  Jarque-Bera (JB):  </th> <td> 816.332</td> \n",
              "</tr>\n",
              "<tr>\n",
              "  <th>Skew:</th>          <td> 1.731</td>  <th>  Prob(JB):          </th> <td>5.44e-178</td>\n",
              "</tr>\n",
              "<tr>\n",
              "  <th>Kurtosis:</th>      <td> 9.042</td>  <th>  Cond. No.          </th> <td>    9.81</td> \n",
              "</tr>\n",
              "</table><br/><br/>Warnings:<br/>[1] Standard Errors assume that the covariance matrix of the errors is correctly specified."
            ],
            "text/plain": [
              "<class 'statsmodels.iolib.summary.Summary'>\n",
              "\"\"\"\n",
              "                                 OLS Regression Results                                \n",
              "=======================================================================================\n",
              "Dep. Variable:                      y   R-squared (uncentered):                   0.104\n",
              "Model:                            OLS   Adj. R-squared (uncentered):              0.075\n",
              "Method:                 Least Squares   F-statistic:                              3.507\n",
              "Date:                Mon, 11 Oct 2021   Prob (F-statistic):                    3.41e-05\n",
              "Time:                        18:36:47   Log-Likelihood:                         -1842.0\n",
              "No. Observations:                 404   AIC:                                      3710.\n",
              "Df Residuals:                     391   BIC:                                      3762.\n",
              "Df Model:                          13                                                  \n",
              "Covariance Type:            nonrobust                                                  \n",
              "==============================================================================\n",
              "                 coef    std err          t      P>|t|      [0.025      0.975]\n",
              "------------------------------------------------------------------------------\n",
              "x1            -0.2469      1.565     -0.158      0.875      -3.323       2.830\n",
              "x2                  0      1.789          0      1.000      -3.518       3.518\n",
              "x3                 -0      2.325         -0      1.000      -4.571       4.571\n",
              "x4             0.3420      1.203      0.284      0.776      -2.023       2.707\n",
              "x5                 -0      2.544         -0      1.000      -5.002       5.002\n",
              "x6             2.8508      1.667      1.710      0.088      -0.426       6.128\n",
              "x7                 -0      2.112         -0      1.000      -4.152       4.152\n",
              "x8                 -0      2.334         -0      1.000      -4.589       4.589\n",
              "x9                 -0      3.186         -0      1.000      -6.265       6.265\n",
              "x10           -0.2149      3.493     -0.062      0.951      -7.082       6.652\n",
              "x11           -2.0123      1.577     -1.276      0.203      -5.112       1.087\n",
              "x12            0.4265      1.372      0.311      0.756      -2.271       3.124\n",
              "x13           -3.5219      2.076     -1.696      0.091      -7.604       0.560\n",
              "==============================================================================\n",
              "Omnibus:                      166.428   Durbin-Watson:                   0.083\n",
              "Prob(Omnibus):                  0.000   Jarque-Bera (JB):              816.332\n",
              "Skew:                           1.731   Prob(JB):                    5.44e-178\n",
              "Kurtosis:                       9.042   Cond. No.                         9.81\n",
              "==============================================================================\n",
              "\n",
              "Warnings:\n",
              "[1] Standard Errors assume that the covariance matrix of the errors is correctly specified.\n",
              "\"\"\""
            ]
          },
          "metadata": {},
          "execution_count": 72
        }
      ]
    },
    {
      "cell_type": "markdown",
      "metadata": {
        "id": "jIRLddf65hVs"
      },
      "source": [
        "1.Обычная линейная регрессия обучилась методом наименьших квадратов буз регуляризации. Практически не наблюдается занулившихся весов. Наибольшую важность модель выделила в признаке LSTAT, если сравнивать по абсолютной величине весов, и наименьшую важность в признаке INDUS. Без регуляризации такая модель может переобучиться и не наказывать за большие веса параметров регрессии. Модель не отбирает никакие признаки. Таким образом на обучающей выборке будет хорошее качество, но плохое на тестовой. Перед обучением признаки были отмасштабированы.\n",
        "\n",
        "2.При использовании Ridge регрессии можно заметить такую же тенденцию в весах как и при использовании обычной линейной регрессии, но немного видно, что веса были оштрафованы и немного ниже, чем при использовании обычной регрессии, так как веса не так больши по абсолютной величине. Наибольшую важность модель выделила в признаке LSTAT, если сравнивать по абсолютной величине весов, и наименьшую важность в признаке INDUS. Использовалась l1 регуляризация.\n",
        "\n",
        "3.При использовании Lasso регрессии некоторые веса занулились. Так как мы использовали l2 регуляризацию, модель отобрала наиболее информативные признаки.\n",
        "К информативным моджно отнести: CRIM, CHAS, RM, TAX, PTRATIO, B, LSTAT. Самый важный из них RM."
      ]
    },
    {
      "cell_type": "markdown",
      "metadata": {
        "id": "UYjdNZSA5hVs"
      },
      "source": [
        "---\n",
        "#### 4. [1 point] \n",
        "Implement one of the elimination algorithms that were described in the Seminar_4 (Elimination by P-value, Forward elimination, Backward elimination), make conclusions. \n",
        "It's enough to apply to one of the models above (e.g simple linear regression)"
      ]
    },
    {
      "cell_type": "code",
      "metadata": {
        "id": "xhIOXfUd5hVs"
      },
      "source": [
        "# your code here \n",
        "#╰( ͡° ͜ʖ ͡° )つ──☆*:・ﾟ"
      ],
      "execution_count": 73,
      "outputs": []
    },
    {
      "cell_type": "markdown",
      "metadata": {
        "id": "cgP0HMW65hVs"
      },
      "source": [
        "```your conclusions here```"
      ]
    },
    {
      "cell_type": "markdown",
      "metadata": {
        "id": "_ZaGOieH5hVt"
      },
      "source": [
        "---\n",
        "#### 5. [1 point] \n",
        "Find the best (in terms of RMSE) $\\alpha$ for Ridge regression using cross-validation with 5 folds. You must select values from range $[10^{-4}, 10^{3}]$."
      ]
    },
    {
      "cell_type": "code",
      "metadata": {
        "colab": {
          "base_uri": "https://localhost:8080/"
        },
        "id": "41eVDcBg5hVt",
        "outputId": "ddde6ba1-4f14-41be-d21e-ffaad25e22e0"
      },
      "source": [
        "# your code here \n",
        "#╰( ͡° ͜ʖ ͡° )つ──☆*:・ﾟ\n",
        "from sklearn.model_selection import GridSearchCV\n",
        "import decimal\n",
        "ridge = Ridge()\n",
        "params = {'alpha' : np.arange(10**-4, 10**3, 10**-2)}\n",
        "BestRidge = GridSearchCV(ridge, params, scoring= 'neg_root_mean_squared_error', cv=5)\n",
        "BestRidge.fit(X_train, y_train)\n",
        "print(BestRidge.best_estimator_)"
      ],
      "execution_count": 112,
      "outputs": [
        {
          "output_type": "stream",
          "name": "stdout",
          "text": [
            "Ridge(alpha=8.2101, copy_X=True, fit_intercept=True, max_iter=None,\n",
            "      normalize=False, random_state=None, solver='auto', tol=0.001)\n"
          ]
        }
      ]
    },
    {
      "cell_type": "markdown",
      "metadata": {
        "id": "xbBozTGMMkex"
      },
      "source": [
        "Данный метод работает достаточно долго, чтобы обучать модели с перебором весов.\n",
        "Найденный параметр равен alpha=8.2101."
      ]
    },
    {
      "cell_type": "markdown",
      "metadata": {
        "id": "rl82Jzvz5hVt"
      },
      "source": [
        "---\n",
        "## Gradient descent\n",
        "\n",
        "#### 6. [3.5 points] \n",
        "**Implement a linear regression model for the MSE loss function, trained by gradient descent.**\n",
        "\n",
        "All calculations must be vectorized, and python loops can only be used for gradient descent iterations. As a stop criterion, you must use (simultaneously):\n",
        "\n",
        "* checking for the Euclidean norm of the weight difference on two adjacent iterations (for example, less than some small number of the order of $10^{-6}$, set by the `tolerance` parameter);\n",
        "* reaching the maximum number of iterations (for example, 10000, set by the `max_iter` parameter).\n",
        "\n",
        "You need to implement:\n",
        "\n",
        "* Full gradient descent:\n",
        "\n",
        "$$\n",
        "w_{k + 1} = w_{k} - \\eta_{k} \\nabla_{w} Q(w_{k}).\n",
        "$$\n",
        "\n",
        "* Stochastic Gradient Descent:\n",
        "\n",
        "$$\n",
        "w_{k + 1} = w_{k} - \\eta_{k} \\nabla_{w} q_{i_{k}}(w_{k}).\n",
        "$$\n",
        "\n",
        "$\\nabla_{w} q_{i_{k}}(w_{k}) \\, $ is the estimate of the gradient over the batch of objects selected randomly.\n",
        "\n",
        "* Momentum method:\n",
        "\n",
        "$$\n",
        "h_0 = 0, \\\\\n",
        "h_{k + 1} = \\alpha h_{k} + \\eta_k \\nabla_{w} q_{i_{k}} (w_{k}), \\\\\n",
        "w_{k + 1} = w_{k} - h_{k + 1}.\n",
        "$$\n",
        "\n",
        "Exponentially weighed averages can provide a better estimate which is closer to the actual gradient.\n",
        "\n",
        "\n",
        "To make sure that the optimization process really converges, we will use the `loss_history` class attribute. After calling the `fit` method, it should contain the values of the loss function for all iterations, starting from the first one (before the first step on the anti-gradient).\n",
        "\n",
        "You need to initialize the weights with a zero or random (from a normal distribution) vector. The following is a template class that needs to contain the code implementing all variations of the models."
      ]
    },
    {
      "cell_type": "code",
      "metadata": {
        "id": "nndw0X7L5hVu"
      },
      "source": [
        "from sklearn.base import BaseEstimator\n",
        "\n",
        "class LinReg(BaseEstimator):\n",
        "    def __init__(self, delta=1.0, gd_type='Momentum', \n",
        "                 tolerance=1e-4, max_iter=1000, w0=None, eta=1e-2, alpha=1e-3):\n",
        "        \"\"\"\n",
        "        gd_type: str\n",
        "            'GradientDescent', 'StochasticDescent', 'Momentum'\n",
        "        delta: float\n",
        "            proportion of object in a batch (fot stochastic GD)\n",
        "        tolerance: float\n",
        "            for stopping gradient descent\n",
        "        max_iter: int\n",
        "            maximum number of steps in gradient descent\n",
        "        w0: np.array of shape (d)\n",
        "            init weights\n",
        "        eta: float\n",
        "            learning rate\n",
        "        alpha: float\n",
        "            momentum coefficient\n",
        "        \"\"\"\n",
        "        \n",
        "        self.gd_type = gd_type\n",
        "        self.delta = delta\n",
        "        self.tolerance = tolerance\n",
        "        self.max_iter = max_iter\n",
        "        self.w0 = w0\n",
        "        if w0 is None:\n",
        "            self.w0 = np.zeros(X.shape[1]+1)\n",
        "        self.alpha = alpha\n",
        "        self.w = None\n",
        "        self.eta = eta\n",
        "        self.loss_history = None # list of loss function values at each training iteration\n",
        "        self.h = 0\n",
        "    \n",
        "    def fit(self, X, y):\n",
        "        \"\"\"\n",
        "        X: np.array of shape (l, d)\n",
        "        y: np.array of shape (l)\n",
        "        ---\n",
        "        output: self\n",
        "        \"\"\"\n",
        "        self.w = self.w0\n",
        "        X = np.c_[ X, np.ones(X.shape[0]) ]\n",
        "\n",
        "        w_new = self.w\n",
        "        self.loss_history = []\n",
        "        for i in range(self.max_iter):\n",
        "          grad = self.calc_gradient(X, y)\n",
        "          \n",
        "          if(self.gd_type == 'GradientDescent' or self.gd_type == 'StochasticDescent'):\n",
        "            w_new = self.w - self.eta * grad\n",
        "          else:\n",
        "            self.h = self.alpha * self.h + self.eta * grad\n",
        "            w_new = self.w - self.h\n",
        "\n",
        "          self.loss_history.append(self.calc_loss(X, y))\n",
        "          if(np.linalg.norm(w_new - self.w) < self.tolerance):\n",
        "            break\n",
        "          else:\n",
        "            self.w = w_new\n",
        "\n",
        "        return self\n",
        "    \n",
        "    def predict(self, X):\n",
        "        if self.w is None:\n",
        "            raise Exception('Not trained yet')\n",
        "        if(X.shape[1] != len(self.w)):\n",
        "          X = np.c_[ X, np.ones(X.shape[0]) ]\n",
        "        return np.dot(X, self.w)\n",
        "        \n",
        "    \n",
        "    def calc_gradient(self, X, y):\n",
        "        \"\"\"\n",
        "        X: np.array of shape (l, d) (l can be equal to 1 if stochastic)\n",
        "        y: np.array of shape (l)\n",
        "        ---\n",
        "        output: np.array of shape (d)\n",
        "        \"\"\"\n",
        "        if(self.gd_type == 'GradientDescent'):\n",
        "          return 2 * np.dot(np.transpose(X), (np.dot(X, self.w) - y)) / X.shape[0]\n",
        "\n",
        "        if(self.gd_type == 'StochasticDescent'):\n",
        "          batch_ind = np.random.choice(X.shape[0], round(self.delta * X.shape[0]), replace=False)\n",
        "          X_batch = X[batch_ind]\n",
        "          y_batch = y[batch_ind]\n",
        "          return 2 * np.dot(np.transpose(X_batch), (np.dot(X_batch, self.w) - y_batch)) / X_batch.shape[0]\n",
        "\n",
        "        if(self.gd_type == 'Momentum'):\n",
        "          batch_ind = np.random.choice(X.shape[0], round(self.delta * X.shape[0]), replace=False)\n",
        "          X_batch = X[batch_ind]\n",
        "          y_batch = y[batch_ind]\n",
        "          return 2 * np.dot(np.transpose(X_batch), (np.dot(X_batch, self.w) - y_batch)) / X_batch.shape[0]\n",
        "\n",
        "\n",
        "    def calc_loss(self, X, y):\n",
        "        \"\"\"\n",
        "        X: np.array of shape (l, d)\n",
        "        y: np.array of shape (l)\n",
        "        ---\n",
        "        output: float \n",
        "        \"\"\" \n",
        "        return np.sum((self.predict(X) - y)  ** 2) / X.shape[0]"
      ],
      "execution_count": 75,
      "outputs": []
    },
    {
      "cell_type": "markdown",
      "metadata": {
        "id": "zMOgoNYZ5hVv"
      },
      "source": [
        "#### 7. [1 points] \n",
        "Train and validate \"hand-written\" model (simple linear regression) on the same data, and compare the quality with the Sklearn or StatsModels methods. Investigate the effect of the `max_iter` and `alpha` parameters on the optimization process. Is it consistent with your expectations?"
      ]
    },
    {
      "cell_type": "code",
      "metadata": {
        "colab": {
          "base_uri": "https://localhost:8080/"
        },
        "id": "Na6qHicV5hVv",
        "outputId": "62615408-2d82-4222-e392-7e8bee57eaab"
      },
      "source": [
        "# your code here \n",
        "#╰( ͡° ͜ʖ ͡° )つ──☆*:・ﾟ\n",
        "a = []\n",
        "for i in range(1000):\n",
        "  my_reg = LinReg(max_iter = 1000 + i, gd_type='GradientDescent')\n",
        "  my_reg.fit(X_train, y_train)\n",
        "  a.append(mean_squared_error(my_reg.predict(X_test), y_test) ** 0.5)\n",
        "\n",
        "print('The least on \"hand-written\" model RMSE:', np.min(a))\n",
        "\n",
        "sklearn_reg = LinearRegression()\n",
        "sklearn_reg.fit(X_train, y_train)\n",
        "print('The least on sklearn model RMSE:', mean_squared_error(sklearn_reg.predict(X_test), y_test) ** 0.5)\n",
        "print('The least on stats model RMSE is simililar to sklearn')"
      ],
      "execution_count": 81,
      "outputs": [
        {
          "output_type": "stream",
          "name": "stdout",
          "text": [
            "The least on \"hand-written\" model MSE: 5.791882477220084\n",
            "The least on sklearn model MSE: 5.783509315085134\n",
            "The least on stats model MSE is simililar to sklearn\n"
          ]
        }
      ]
    },
    {
      "cell_type": "code",
      "metadata": {
        "colab": {
          "base_uri": "https://localhost:8080/",
          "height": 444
        },
        "id": "cD-vhKsuY7tt",
        "outputId": "62fdc83b-8029-477c-cfa7-932c67008d50"
      },
      "source": [
        "print(\"The best RMSE on hand-written model:\", np.min(a))\n",
        "print(\"Iteration with best MSE on hand-written model:\", range(1000)[np.argmin(a)] + 1000)\n",
        "plt.figure(figsize=(5, 6))\n",
        "plt.plot(a)\n",
        "\n",
        "a = []\n",
        "for i in np.arange(0.1, 1.1, 0.1):\n",
        "  my_reg = LinReg(alpha = i)\n",
        "  my_reg.fit(X_train, y_train)\n",
        "  a.append(mean_squared_error(my_reg.predict(X_test), y_test) ** 0.5)\n",
        "\n",
        "print(\"The best RMSE on hand-written Momentum model:\", np.min(a))\n",
        "print(\"The best alpha on hand-written Momentum model:\", np.arange(0.1, 1, 0.1)[np.argmin(a)])"
      ],
      "execution_count": 82,
      "outputs": [
        {
          "output_type": "stream",
          "name": "stdout",
          "text": [
            "The best MSE on hand-written model: 5.791882477220084\n",
            "Iteration with best MSE on hand-written model: 1999\n",
            "The best MSE on hand-written Momentum model: 5.783737963384184\n",
            "The best alpha on hand-written Momentum model: 0.9\n"
          ]
        },
        {
          "output_type": "display_data",
          "data": {
            "image/png": "[encoded data removed]",
            "text/plain": [
              "<Figure size 360x432 with 1 Axes>"
            ]
          },
          "metadata": {}
        }
      ]
    },
    {
      "cell_type": "markdown",
      "metadata": {
        "id": "JgOku-SW5hVw"
      },
      "source": [
        "Для приведенных моделей Sklearn и StatsModels показали более хорошее качество, однако hand written модель при большем количество итераций могла бы показывать примерно такое же качество. Как описано на графике выше, ошибка с числом итераций снижалась.\n",
        "Количество итераций в градиентном спуске снижает ошибку до того момента пока мы не попадаем в малую окрестность минимума нашей функции потерь. Далее из-за константного шага модель либо попадает в минимум, либо \"кружит\" в этой окрестности. Так получается, что мало итераций оставляет большую ошибку, большое приводит к бесполезному вычислению градиентов при константном шаге.\n",
        "Коэфициент альфа при Momentum реализации( на сколько я понял, ведь этот параметр так называется в реализации) то при низком значении модель не получает никакого выигрыша в ошибке, при слошком большом происходит переполнение.\n",
        "Как и ожидалось библиотечные модели показывают лучшее качество, однако написанная отстает по качеству на одну сотую по MSE, что говорит о ее качестве."
      ]
    },
    {
      "cell_type": "markdown",
      "metadata": {
        "id": "y9ESWpom5hVw"
      },
      "source": [
        "#### 8. [1 points] \n",
        "Plot graphs (on the same picture) of the dependence of the loss function value on the iteration number for Full GD, SGD and Momentum. Draw conclusions about the rate of convergence of various modifications of gradient descent.\n",
        "\n",
        "Don't forget about what *beautiful* graphics should look like!"
      ]
    },
    {
      "cell_type": "code",
      "metadata": {
        "id": "ypEzxBUA5hVw",
        "colab": {
          "base_uri": "https://localhost:8080/",
          "height": 318
        },
        "outputId": "d688e7c6-b727-4e83-9e65-61d5d431e225"
      },
      "source": [
        "# your code here \n",
        "#╰( ͡° ͜ʖ ͡° )つ──☆*:・ﾟ\n",
        "my_reg = LinReg(max_iter = 1500, gd_type='GradientDescent')\n",
        "my_reg.fit(X_train, y_train)\n",
        "print('MSE on 1500 iteration', mean_squared_error(my_reg.predict(X_test), y_test)**0.5)\n",
        "\n",
        "fig, ax = plt.subplots()\n",
        "ax.plot(my_reg.loss_history)\n",
        "ax.set_xlabel('iterations')\n",
        "ax.set_ylabel('loss')"
      ],
      "execution_count": 93,
      "outputs": [
        {
          "output_type": "stream",
          "name": "stdout",
          "text": [
            "MSE on 1500 iteration 5.821578365471962\n"
          ]
        },
        {
          "output_type": "execute_result",
          "data": {
            "text/plain": [
              "Text(0, 0.5, 'loss')"
            ]
          },
          "metadata": {},
          "execution_count": 93
        },
        {
          "output_type": "display_data",
          "data": {
            "image/png": "[encoded data removed]",
            "text/plain": [
              "<Figure size 432x288 with 1 Axes>"
            ]
          },
          "metadata": {}
        }
      ]
    },
    {
      "cell_type": "code",
      "metadata": {
        "colab": {
          "base_uri": "https://localhost:8080/",
          "height": 318
        },
        "id": "vvt4HCCdxaO9",
        "outputId": "b74d5cd9-31a0-4a82-efba-95d12bda4ce0"
      },
      "source": [
        "my_reg = LinReg(max_iter = 1500, gd_type='StochasticDescent', delta=0.15)\n",
        "my_reg.fit(X_train, y_train)\n",
        "print('MSE on 1500 iteration', mean_squared_error(my_reg.predict(X_test), y_test)**0.5)\n",
        "\n",
        "fig, ax = plt.subplots()\n",
        "ax.plot(my_reg.loss_history)\n",
        "ax.set_xlabel('iterations')\n",
        "ax.set_ylabel('loss')"
      ],
      "execution_count": 104,
      "outputs": [
        {
          "output_type": "stream",
          "name": "stdout",
          "text": [
            "MSE on 1500 iteration 5.8258321129036075\n"
          ]
        },
        {
          "output_type": "execute_result",
          "data": {
            "text/plain": [
              "Text(0, 0.5, 'loss')"
            ]
          },
          "metadata": {},
          "execution_count": 104
        },
        {
          "output_type": "display_data",
          "data": {
            "image/png": "[encoded data removed]",
            "text/plain": [
              "<Figure size 432x288 with 1 Axes>"
            ]
          },
          "metadata": {}
        }
      ]
    },
    {
      "cell_type": "code",
      "metadata": {
        "colab": {
          "base_uri": "https://localhost:8080/",
          "height": 318
        },
        "id": "fXWAmWLTyy-i",
        "outputId": "650201e2-1660-47e7-d1c9-7e58230217f5"
      },
      "source": [
        "my_reg = LinReg(max_iter = 1500, gd_type='Momentum', delta=0.3, alpha = 0.6)\n",
        "my_reg.fit(X_train, y_train)\n",
        "print('MSE on 1500 iteration', mean_squared_error(my_reg.predict(X_test), y_test)**0.5)\n",
        "\n",
        "fig, ax = plt.subplots()\n",
        "ax.plot(my_reg.loss_history)\n",
        "ax.set_xlabel('iterations')\n",
        "ax.set_ylabel('loss')"
      ],
      "execution_count": 111,
      "outputs": [
        {
          "output_type": "stream",
          "name": "stdout",
          "text": [
            "MSE on 1500 iteration 5.75158503536169\n"
          ]
        },
        {
          "output_type": "execute_result",
          "data": {
            "text/plain": [
              "Text(0, 0.5, 'loss')"
            ]
          },
          "metadata": {},
          "execution_count": 111
        },
        {
          "output_type": "display_data",
          "data": {
            "image/png": "[encoded data removed]",
            "text/plain": [
              "<Figure size 432x288 with 1 Axes>"
            ]
          },
          "metadata": {}
        }
      ]
    },
    {
      "cell_type": "markdown",
      "metadata": {
        "id": "kf0HWeTj5hVw"
      },
      "source": [
        "Обычная линейная регрессия с градиентным спуском показывает один стабильный результат потерь. При этом стохастический градиентный спуск и моментум чувствительны к случайности, так как там формируется случайный батч для вычисления на нем градиента. \n",
        "От случайности зависит и само обучение двух последних методов, так как в батч может не попасть аномальные объекты или выбросы, тогда обучение произойдет лучше, чем при полном вычислении всех градиентов.\n",
        "При формировании батчей модель лучше понимает тенденцию всей выборки и это намного экономит вычисления. Однако такие модели не стабильны и привязаны к случайности."
      ]
    }
  ]
}
