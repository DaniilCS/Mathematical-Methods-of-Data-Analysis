{
  "nbformat": 4,
  "nbformat_minor": 5,
  "metadata": {
    "kernelspec": {
      "display_name": "Python 3",
      "language": "python",
      "name": "python3"
    },
    "language_info": {
      "codemirror_mode": {
        "name": "ipython",
        "version": 3
      },
      "file_extension": ".py",
      "mimetype": "text/x-python",
      "name": "python",
      "nbconvert_exporter": "python",
      "pygments_lexer": "ipython3",
      "version": "3.8.5"
    },
    "colab": {
      "name": "hw5 (1).ipynb",
      "provenance": [],
      "collapsed_sections": []
    }
  },
  "cells": [
    {
      "cell_type": "markdown",
      "metadata": {
        "id": "gOqbF6LrSWRQ"
      },
      "source": [
        "# HSE 2021: Mathematical Methods for Data Analysis\n",
        "\n",
        "## Homework 5"
      ],
      "id": "gOqbF6LrSWRQ"
    },
    {
      "cell_type": "markdown",
      "metadata": {
        "id": "Otya6844SWRS"
      },
      "source": [
        "### Contents\n",
        "\n",
        "#### PCA, t-SNE – 4 points\n",
        "* [Task 1](#task1) (1 points)\n",
        "* [Task 2](#task2) (1 points)\n",
        "* [Task 3](#task3) (1 points)\n",
        "* [Task 4](#task4) (1 points)\n",
        "\n",
        "#### Clustering – 6 points\n",
        "* [Task 5](#task5) (1.5 points)\n",
        "* [Task 6](#task6) (1.5 points)\n",
        "* [Task 7](#task7) (1.5 points)\n",
        "* [Task 8](#task8) (0.5 point)\n",
        "* [Task 9](#task8) (1 point)"
      ],
      "id": "Otya6844SWRS"
    },
    {
      "cell_type": "markdown",
      "metadata": {
        "id": "rMIQ7T_RSWRS"
      },
      "source": [
        "Download the file `data_Mar_64.txt`."
      ],
      "id": "rMIQ7T_RSWRS"
    },
    {
      "cell_type": "code",
      "metadata": {
        "colab": {
          "base_uri": "https://localhost:8080/"
        },
        "id": "iUUupS5_SWRT",
        "outputId": "79575c5b-94d9-4a7e-b619-f34879c1a7fd"
      },
      "source": [
        "!wget https://raw.githubusercontent.com/AKuzina/ml_se/main/hw/hw_5/data_Mar_64.txt"
      ],
      "id": "iUUupS5_SWRT",
      "execution_count": 45,
      "outputs": [
        {
          "output_type": "stream",
          "name": "stdout",
          "text": [
            "--2021-12-08 17:42:28--  https://raw.githubusercontent.com/AKuzina/ml_se/main/hw/hw_5/data_Mar_64.txt\n",
            "Resolving raw.githubusercontent.com (raw.githubusercontent.com)... 185.199.108.133, 185.199.109.133, 185.199.110.133, ...\n",
            "Connecting to raw.githubusercontent.com (raw.githubusercontent.com)|185.199.108.133|:443... connected.\n",
            "HTTP request sent, awaiting response... 200 OK\n",
            "Length: 772930 (755K) [text/plain]\n",
            "Saving to: ‘data_Mar_64.txt.2’\n",
            "\n",
            "\rdata_Mar_64.txt.2     0%[                    ]       0  --.-KB/s               \rdata_Mar_64.txt.2   100%[===================>] 754.81K  --.-KB/s    in 0.05s   \n",
            "\n",
            "2021-12-08 17:42:29 (16.1 MB/s) - ‘data_Mar_64.txt.2’ saved [772930/772930]\n",
            "\n"
          ]
        }
      ]
    },
    {
      "cell_type": "code",
      "metadata": {
        "colab": {
          "base_uri": "https://localhost:8080/",
          "height": 309
        },
        "id": "zlnfC4F8SWRU",
        "outputId": "51a02e2a-13bd-4a7d-e6ed-e79754a50ec8"
      },
      "source": [
        "import pandas as pd\n",
        "data = pd.read_csv('data_Mar_64.txt', header=None)\n",
        "data.head()"
      ],
      "id": "zlnfC4F8SWRU",
      "execution_count": 46,
      "outputs": [
        {
          "output_type": "execute_result",
          "data": {
            "text/html": [
              "<div>\n",
              "<style scoped>\n",
              "    .dataframe tbody tr th:only-of-type {\n",
              "        vertical-align: middle;\n",
              "    }\n",
              "\n",
              "    .dataframe tbody tr th {\n",
              "        vertical-align: top;\n",
              "    }\n",
              "\n",
              "    .dataframe thead th {\n",
              "        text-align: right;\n",
              "    }\n",
              "</style>\n",
              "<table border=\"1\" class=\"dataframe\">\n",
              "  <thead>\n",
              "    <tr style=\"text-align: right;\">\n",
              "      <th></th>\n",
              "      <th>0</th>\n",
              "      <th>1</th>\n",
              "      <th>2</th>\n",
              "      <th>3</th>\n",
              "      <th>4</th>\n",
              "      <th>5</th>\n",
              "      <th>6</th>\n",
              "      <th>7</th>\n",
              "      <th>8</th>\n",
              "      <th>9</th>\n",
              "      <th>10</th>\n",
              "      <th>11</th>\n",
              "      <th>12</th>\n",
              "      <th>13</th>\n",
              "      <th>14</th>\n",
              "      <th>15</th>\n",
              "      <th>16</th>\n",
              "      <th>17</th>\n",
              "      <th>18</th>\n",
              "      <th>19</th>\n",
              "      <th>20</th>\n",
              "      <th>21</th>\n",
              "      <th>22</th>\n",
              "      <th>23</th>\n",
              "      <th>24</th>\n",
              "      <th>25</th>\n",
              "      <th>26</th>\n",
              "      <th>27</th>\n",
              "      <th>28</th>\n",
              "      <th>29</th>\n",
              "      <th>30</th>\n",
              "      <th>31</th>\n",
              "      <th>32</th>\n",
              "      <th>33</th>\n",
              "      <th>34</th>\n",
              "      <th>35</th>\n",
              "      <th>36</th>\n",
              "      <th>37</th>\n",
              "      <th>38</th>\n",
              "      <th>39</th>\n",
              "      <th>40</th>\n",
              "      <th>41</th>\n",
              "      <th>42</th>\n",
              "      <th>43</th>\n",
              "      <th>44</th>\n",
              "      <th>45</th>\n",
              "      <th>46</th>\n",
              "      <th>47</th>\n",
              "      <th>48</th>\n",
              "      <th>49</th>\n",
              "      <th>50</th>\n",
              "      <th>51</th>\n",
              "      <th>52</th>\n",
              "      <th>53</th>\n",
              "      <th>54</th>\n",
              "      <th>55</th>\n",
              "      <th>56</th>\n",
              "      <th>57</th>\n",
              "      <th>58</th>\n",
              "      <th>59</th>\n",
              "      <th>60</th>\n",
              "      <th>61</th>\n",
              "      <th>62</th>\n",
              "      <th>63</th>\n",
              "      <th>64</th>\n",
              "    </tr>\n",
              "  </thead>\n",
              "  <tbody>\n",
              "    <tr>\n",
              "      <th>0</th>\n",
              "      <td>Acer Campestre</td>\n",
              "      <td>0.003906</td>\n",
              "      <td>0.003906</td>\n",
              "      <td>0.027344</td>\n",
              "      <td>0.033203</td>\n",
              "      <td>0.007812</td>\n",
              "      <td>0.017578</td>\n",
              "      <td>0.023438</td>\n",
              "      <td>0.005859</td>\n",
              "      <td>0.000000</td>\n",
              "      <td>0.015625</td>\n",
              "      <td>0.015625</td>\n",
              "      <td>0.015625</td>\n",
              "      <td>0.025391</td>\n",
              "      <td>0.000000</td>\n",
              "      <td>0.015625</td>\n",
              "      <td>0.0</td>\n",
              "      <td>0.025391</td>\n",
              "      <td>0.027344</td>\n",
              "      <td>0.033203</td>\n",
              "      <td>0.009766</td>\n",
              "      <td>0.025391</td>\n",
              "      <td>0.001953</td>\n",
              "      <td>0.0</td>\n",
              "      <td>0.003906</td>\n",
              "      <td>0.001953</td>\n",
              "      <td>0.044922</td>\n",
              "      <td>0.000000</td>\n",
              "      <td>0.031250</td>\n",
              "      <td>0.033203</td>\n",
              "      <td>0.015625</td>\n",
              "      <td>0.003906</td>\n",
              "      <td>0.000000</td>\n",
              "      <td>0.013672</td>\n",
              "      <td>0.001953</td>\n",
              "      <td>0.015625</td>\n",
              "      <td>0.015625</td>\n",
              "      <td>0.017578</td>\n",
              "      <td>0.033203</td>\n",
              "      <td>0.015625</td>\n",
              "      <td>0.003906</td>\n",
              "      <td>0.003906</td>\n",
              "      <td>0.031250</td>\n",
              "      <td>0.035156</td>\n",
              "      <td>0.015625</td>\n",
              "      <td>0.044922</td>\n",
              "      <td>0.007812</td>\n",
              "      <td>0.029297</td>\n",
              "      <td>0.037109</td>\n",
              "      <td>0.000000</td>\n",
              "      <td>0.027344</td>\n",
              "      <td>0.005859</td>\n",
              "      <td>0.001953</td>\n",
              "      <td>0.041016</td>\n",
              "      <td>0.000000</td>\n",
              "      <td>0.011719</td>\n",
              "      <td>0.000000</td>\n",
              "      <td>0.005859</td>\n",
              "      <td>0.035156</td>\n",
              "      <td>0.027344</td>\n",
              "      <td>0.033203</td>\n",
              "      <td>0.001953</td>\n",
              "      <td>0.000000</td>\n",
              "      <td>0.017578</td>\n",
              "      <td>0.0</td>\n",
              "    </tr>\n",
              "    <tr>\n",
              "      <th>1</th>\n",
              "      <td>Acer Campestre</td>\n",
              "      <td>0.005859</td>\n",
              "      <td>0.013672</td>\n",
              "      <td>0.027344</td>\n",
              "      <td>0.025391</td>\n",
              "      <td>0.013672</td>\n",
              "      <td>0.029297</td>\n",
              "      <td>0.019531</td>\n",
              "      <td>0.000000</td>\n",
              "      <td>0.001953</td>\n",
              "      <td>0.021484</td>\n",
              "      <td>0.007812</td>\n",
              "      <td>0.003906</td>\n",
              "      <td>0.013672</td>\n",
              "      <td>0.003906</td>\n",
              "      <td>0.009766</td>\n",
              "      <td>0.0</td>\n",
              "      <td>0.044922</td>\n",
              "      <td>0.011719</td>\n",
              "      <td>0.007812</td>\n",
              "      <td>0.031250</td>\n",
              "      <td>0.017578</td>\n",
              "      <td>0.001953</td>\n",
              "      <td>0.0</td>\n",
              "      <td>0.001953</td>\n",
              "      <td>0.001953</td>\n",
              "      <td>0.037109</td>\n",
              "      <td>0.000000</td>\n",
              "      <td>0.029297</td>\n",
              "      <td>0.025391</td>\n",
              "      <td>0.039062</td>\n",
              "      <td>0.003906</td>\n",
              "      <td>0.000000</td>\n",
              "      <td>0.035156</td>\n",
              "      <td>0.000000</td>\n",
              "      <td>0.027344</td>\n",
              "      <td>0.015625</td>\n",
              "      <td>0.019531</td>\n",
              "      <td>0.029297</td>\n",
              "      <td>0.023438</td>\n",
              "      <td>0.005859</td>\n",
              "      <td>0.003906</td>\n",
              "      <td>0.017578</td>\n",
              "      <td>0.025391</td>\n",
              "      <td>0.011719</td>\n",
              "      <td>0.025391</td>\n",
              "      <td>0.005859</td>\n",
              "      <td>0.035156</td>\n",
              "      <td>0.033203</td>\n",
              "      <td>0.000000</td>\n",
              "      <td>0.015625</td>\n",
              "      <td>0.011719</td>\n",
              "      <td>0.003906</td>\n",
              "      <td>0.037109</td>\n",
              "      <td>0.001953</td>\n",
              "      <td>0.017578</td>\n",
              "      <td>0.000000</td>\n",
              "      <td>0.021484</td>\n",
              "      <td>0.017578</td>\n",
              "      <td>0.046875</td>\n",
              "      <td>0.005859</td>\n",
              "      <td>0.003906</td>\n",
              "      <td>0.003906</td>\n",
              "      <td>0.046875</td>\n",
              "      <td>0.0</td>\n",
              "    </tr>\n",
              "    <tr>\n",
              "      <th>2</th>\n",
              "      <td>Acer Campestre</td>\n",
              "      <td>0.011719</td>\n",
              "      <td>0.001953</td>\n",
              "      <td>0.027344</td>\n",
              "      <td>0.044922</td>\n",
              "      <td>0.017578</td>\n",
              "      <td>0.042969</td>\n",
              "      <td>0.023438</td>\n",
              "      <td>0.000000</td>\n",
              "      <td>0.003906</td>\n",
              "      <td>0.019531</td>\n",
              "      <td>0.017578</td>\n",
              "      <td>0.005859</td>\n",
              "      <td>0.009766</td>\n",
              "      <td>0.005859</td>\n",
              "      <td>0.015625</td>\n",
              "      <td>0.0</td>\n",
              "      <td>0.027344</td>\n",
              "      <td>0.017578</td>\n",
              "      <td>0.019531</td>\n",
              "      <td>0.019531</td>\n",
              "      <td>0.023438</td>\n",
              "      <td>0.001953</td>\n",
              "      <td>0.0</td>\n",
              "      <td>0.011719</td>\n",
              "      <td>0.001953</td>\n",
              "      <td>0.042969</td>\n",
              "      <td>0.000000</td>\n",
              "      <td>0.011719</td>\n",
              "      <td>0.023438</td>\n",
              "      <td>0.035156</td>\n",
              "      <td>0.001953</td>\n",
              "      <td>0.001953</td>\n",
              "      <td>0.027344</td>\n",
              "      <td>0.000000</td>\n",
              "      <td>0.003906</td>\n",
              "      <td>0.017578</td>\n",
              "      <td>0.027344</td>\n",
              "      <td>0.033203</td>\n",
              "      <td>0.007812</td>\n",
              "      <td>0.001953</td>\n",
              "      <td>0.007812</td>\n",
              "      <td>0.035156</td>\n",
              "      <td>0.015625</td>\n",
              "      <td>0.011719</td>\n",
              "      <td>0.027344</td>\n",
              "      <td>0.003906</td>\n",
              "      <td>0.011719</td>\n",
              "      <td>0.019531</td>\n",
              "      <td>0.001953</td>\n",
              "      <td>0.013672</td>\n",
              "      <td>0.005859</td>\n",
              "      <td>0.007812</td>\n",
              "      <td>0.068359</td>\n",
              "      <td>0.003906</td>\n",
              "      <td>0.035156</td>\n",
              "      <td>0.000000</td>\n",
              "      <td>0.015625</td>\n",
              "      <td>0.021484</td>\n",
              "      <td>0.056641</td>\n",
              "      <td>0.009766</td>\n",
              "      <td>0.003906</td>\n",
              "      <td>0.000000</td>\n",
              "      <td>0.015625</td>\n",
              "      <td>0.0</td>\n",
              "    </tr>\n",
              "    <tr>\n",
              "      <th>3</th>\n",
              "      <td>Acer Campestre</td>\n",
              "      <td>0.013672</td>\n",
              "      <td>0.011719</td>\n",
              "      <td>0.037109</td>\n",
              "      <td>0.017578</td>\n",
              "      <td>0.011719</td>\n",
              "      <td>0.087891</td>\n",
              "      <td>0.023438</td>\n",
              "      <td>0.000000</td>\n",
              "      <td>0.000000</td>\n",
              "      <td>0.027344</td>\n",
              "      <td>0.021484</td>\n",
              "      <td>0.009766</td>\n",
              "      <td>0.013672</td>\n",
              "      <td>0.001953</td>\n",
              "      <td>0.013672</td>\n",
              "      <td>0.0</td>\n",
              "      <td>0.021484</td>\n",
              "      <td>0.017578</td>\n",
              "      <td>0.011719</td>\n",
              "      <td>0.027344</td>\n",
              "      <td>0.009766</td>\n",
              "      <td>0.003906</td>\n",
              "      <td>0.0</td>\n",
              "      <td>0.011719</td>\n",
              "      <td>0.000000</td>\n",
              "      <td>0.050781</td>\n",
              "      <td>0.001953</td>\n",
              "      <td>0.019531</td>\n",
              "      <td>0.013672</td>\n",
              "      <td>0.011719</td>\n",
              "      <td>0.003906</td>\n",
              "      <td>0.000000</td>\n",
              "      <td>0.027344</td>\n",
              "      <td>0.000000</td>\n",
              "      <td>0.013672</td>\n",
              "      <td>0.007812</td>\n",
              "      <td>0.017578</td>\n",
              "      <td>0.035156</td>\n",
              "      <td>0.021484</td>\n",
              "      <td>0.000000</td>\n",
              "      <td>0.003906</td>\n",
              "      <td>0.035156</td>\n",
              "      <td>0.027344</td>\n",
              "      <td>0.015625</td>\n",
              "      <td>0.029297</td>\n",
              "      <td>0.007812</td>\n",
              "      <td>0.011719</td>\n",
              "      <td>0.023438</td>\n",
              "      <td>0.000000</td>\n",
              "      <td>0.017578</td>\n",
              "      <td>0.009766</td>\n",
              "      <td>0.007812</td>\n",
              "      <td>0.052734</td>\n",
              "      <td>0.003906</td>\n",
              "      <td>0.015625</td>\n",
              "      <td>0.001953</td>\n",
              "      <td>0.021484</td>\n",
              "      <td>0.029297</td>\n",
              "      <td>0.033203</td>\n",
              "      <td>0.003906</td>\n",
              "      <td>0.000000</td>\n",
              "      <td>0.001953</td>\n",
              "      <td>0.027344</td>\n",
              "      <td>0.0</td>\n",
              "    </tr>\n",
              "    <tr>\n",
              "      <th>4</th>\n",
              "      <td>Acer Campestre</td>\n",
              "      <td>0.007812</td>\n",
              "      <td>0.009766</td>\n",
              "      <td>0.027344</td>\n",
              "      <td>0.025391</td>\n",
              "      <td>0.001953</td>\n",
              "      <td>0.005859</td>\n",
              "      <td>0.015625</td>\n",
              "      <td>0.000000</td>\n",
              "      <td>0.005859</td>\n",
              "      <td>0.017578</td>\n",
              "      <td>0.039062</td>\n",
              "      <td>0.007812</td>\n",
              "      <td>0.042969</td>\n",
              "      <td>0.001953</td>\n",
              "      <td>0.007812</td>\n",
              "      <td>0.0</td>\n",
              "      <td>0.017578</td>\n",
              "      <td>0.027344</td>\n",
              "      <td>0.025391</td>\n",
              "      <td>0.003906</td>\n",
              "      <td>0.019531</td>\n",
              "      <td>0.003906</td>\n",
              "      <td>0.0</td>\n",
              "      <td>0.009766</td>\n",
              "      <td>0.003906</td>\n",
              "      <td>0.017578</td>\n",
              "      <td>0.001953</td>\n",
              "      <td>0.009766</td>\n",
              "      <td>0.031250</td>\n",
              "      <td>0.015625</td>\n",
              "      <td>0.001953</td>\n",
              "      <td>0.001953</td>\n",
              "      <td>0.037109</td>\n",
              "      <td>0.000000</td>\n",
              "      <td>0.011719</td>\n",
              "      <td>0.037109</td>\n",
              "      <td>0.015625</td>\n",
              "      <td>0.039062</td>\n",
              "      <td>0.009766</td>\n",
              "      <td>0.001953</td>\n",
              "      <td>0.000000</td>\n",
              "      <td>0.050781</td>\n",
              "      <td>0.023438</td>\n",
              "      <td>0.005859</td>\n",
              "      <td>0.058594</td>\n",
              "      <td>0.003906</td>\n",
              "      <td>0.015625</td>\n",
              "      <td>0.021484</td>\n",
              "      <td>0.001953</td>\n",
              "      <td>0.015625</td>\n",
              "      <td>0.023438</td>\n",
              "      <td>0.005859</td>\n",
              "      <td>0.027344</td>\n",
              "      <td>0.000000</td>\n",
              "      <td>0.023438</td>\n",
              "      <td>0.001953</td>\n",
              "      <td>0.021484</td>\n",
              "      <td>0.048828</td>\n",
              "      <td>0.056641</td>\n",
              "      <td>0.019531</td>\n",
              "      <td>0.000000</td>\n",
              "      <td>0.000000</td>\n",
              "      <td>0.013672</td>\n",
              "      <td>0.0</td>\n",
              "    </tr>\n",
              "  </tbody>\n",
              "</table>\n",
              "</div>"
            ],
            "text/plain": [
              "               0         1         2   ...        62        63   64\n",
              "0  Acer Campestre  0.003906  0.003906  ...  0.000000  0.017578  0.0\n",
              "1  Acer Campestre  0.005859  0.013672  ...  0.003906  0.046875  0.0\n",
              "2  Acer Campestre  0.011719  0.001953  ...  0.000000  0.015625  0.0\n",
              "3  Acer Campestre  0.013672  0.011719  ...  0.001953  0.027344  0.0\n",
              "4  Acer Campestre  0.007812  0.009766  ...  0.000000  0.013672  0.0\n",
              "\n",
              "[5 rows x 65 columns]"
            ]
          },
          "metadata": {},
          "execution_count": 46
        }
      ]
    },
    {
      "cell_type": "markdown",
      "metadata": {
        "id": "dbYEePSRSWRV"
      },
      "source": [
        "This [dataset](https://archive.ics.uci.edu/ml/datasets/One-hundred+plant+species+leaves+data+set) consists of work carried out by James Cope, Charles Mallah, and James Orwell, Kingston University London. The Leaves were collected in the Royal Botanic Gardens, Kew, UK. \n",
        "\n",
        "For Each feature, a 64 element vector is given per sample of leaf. One file for each 64-element feature vectors. **Each row begins with the class label**. Here is the plant leaf **classification task**. The remaining 64 elements is the feature vector."
      ],
      "id": "dbYEePSRSWRV"
    },
    {
      "cell_type": "code",
      "metadata": {
        "colab": {
          "base_uri": "https://localhost:8080/"
        },
        "id": "ThGz-4lWSWRV",
        "outputId": "3de9e5de-33a2-4c07-d85d-d65eda4f2548"
      },
      "source": [
        "#Sixteen samples of leaf each of one-hundred plant species\n",
        "data.shape"
      ],
      "id": "ThGz-4lWSWRV",
      "execution_count": 47,
      "outputs": [
        {
          "output_type": "execute_result",
          "data": {
            "text/plain": [
              "(1600, 65)"
            ]
          },
          "metadata": {},
          "execution_count": 47
        }
      ]
    },
    {
      "cell_type": "markdown",
      "metadata": {
        "id": "vBKzDOKUSWRW"
      },
      "source": [
        "The first column is the target, put it in a separate variable."
      ],
      "id": "vBKzDOKUSWRW"
    },
    {
      "cell_type": "code",
      "metadata": {
        "id": "Zbth3-7uSWRW"
      },
      "source": [
        "import numpy as np\n",
        "X, y_name = np.array(data.iloc[:, 1:]), data.iloc[:, 0]"
      ],
      "id": "Zbth3-7uSWRW",
      "execution_count": 48,
      "outputs": []
    },
    {
      "cell_type": "markdown",
      "metadata": {
        "id": "Sd33oWRmSWRW"
      },
      "source": [
        "**Task 1. <a id=\"task1\"></a> (1 points)** Let's do the following pipeline (detailed instructions will be in next cells)\n",
        "\n",
        "- Encode your textual target.\n",
        "- Split your data into train and test. Train a simple classification model without any improvements and calculate metrics (e.g. Logistic regression).\n",
        "- Then let's look at the low dimensional representations of the features and look at the classes there. We will use linear method PCA and non-linear t-SNE (t-distributed stochastic neighbor embedding). In this task we learn how to visualize data at the low dimensional space and check whether the obtained points are separable or not."
      ],
      "id": "Sd33oWRmSWRW"
    },
    {
      "cell_type": "markdown",
      "metadata": {
        "id": "4bCp_uijSWRW"
      },
      "source": [
        "The target variable takes a text value. Use the `LabelEncoder` from `sklearn` to encode the text variable `y_name` and save the resulting values to the variable `y`."
      ],
      "id": "4bCp_uijSWRW"
    },
    {
      "cell_type": "code",
      "metadata": {
        "id": "Qx24s5ALSWRX"
      },
      "source": [
        "## your code here\n",
        "from sklearn.preprocessing import LabelEncoder\n",
        "labelEncoder = LabelEncoder()\n",
        "y = labelEncoder.fit_transform(y_name)"
      ],
      "id": "Qx24s5ALSWRX",
      "execution_count": 49,
      "outputs": []
    },
    {
      "cell_type": "markdown",
      "metadata": {
        "id": "tmxhKtqlSWRX"
      },
      "source": [
        "Split your data into **train** and **test**."
      ],
      "id": "tmxhKtqlSWRX"
    },
    {
      "cell_type": "code",
      "metadata": {
        "id": "g6nSCY4GSWRX"
      },
      "source": [
        "## your code here\n",
        "from sklearn.model_selection import train_test_split\n",
        "X_train, X_test, y_train, y_test = train_test_split(X, y, test_size=0.25, random_state=42)"
      ],
      "id": "g6nSCY4GSWRX",
      "execution_count": 50,
      "outputs": []
    },
    {
      "cell_type": "markdown",
      "metadata": {
        "id": "cFVYD_B1SWRX"
      },
      "source": [
        "Train a simple classifier on your data to predict target. Calculate accuracy, F-score."
      ],
      "id": "cFVYD_B1SWRX"
    },
    {
      "cell_type": "code",
      "metadata": {
        "colab": {
          "base_uri": "https://localhost:8080/"
        },
        "id": "fVcIP70bSWRY",
        "outputId": "712786f2-7805-4490-81a6-f431f311c8d2"
      },
      "source": [
        "## your code here\n",
        "from sklearn.linear_model import LogisticRegression\n",
        "from sklearn.metrics import f1_score\n",
        "clf = LogisticRegression()\n",
        "clf.fit(X_train, y_train)\n",
        "metric = f1_score(y_test, clf.predict(X_test), average='micro')\n",
        "print(f'F score of classifier {metric}')"
      ],
      "id": "fVcIP70bSWRY",
      "execution_count": 51,
      "outputs": [
        {
          "output_type": "stream",
          "name": "stdout",
          "text": [
            "F score of classifier 0.0625\n"
          ]
        }
      ]
    },
    {
      "cell_type": "markdown",
      "metadata": {
        "id": "2WwsmWwnSWRY"
      },
      "source": [
        "Let's try Principal Component Analysis. Use the `PCA` method from `sklearn.decomposiion` to reduce the dimension of the feature space to two. Fix `random_state=0`"
      ],
      "id": "2WwsmWwnSWRY"
    },
    {
      "cell_type": "code",
      "metadata": {
        "id": "OT-8_jMzSWRY"
      },
      "source": [
        "## your code here\n",
        "from sklearn.decomposition import PCA\n",
        "pca = PCA(n_components= 2, random_state=0)\n",
        "X_2 = pca.fit_transform(X)"
      ],
      "id": "OT-8_jMzSWRY",
      "execution_count": 52,
      "outputs": []
    },
    {
      "cell_type": "markdown",
      "metadata": {
        "id": "wtFuZIY_SWRZ"
      },
      "source": [
        "Select objects that match values from 0 to 14 of the target variable `y`. Draw the selected objects in a two-dimensional feature space using the `scatter` method from `matplotlib.pyplot`. To display objects of different classes in different colors, pass `c = y[y<15]` to the `scatter` method."
      ],
      "id": "wtFuZIY_SWRZ"
    },
    {
      "cell_type": "code",
      "metadata": {
        "colab": {
          "base_uri": "https://localhost:8080/",
          "height": 282
        },
        "id": "P-7TANFGSWRZ",
        "outputId": "6f361578-45b4-4c22-9409-781a247d41a7"
      },
      "source": [
        "import matplotlib.pyplot as plt\n",
        "%matplotlib inline\n",
        "y_train_plot = y[y < 15]\n",
        "X_train_plot = X_2[y < 15]\n",
        "plt.scatter(X_train_plot[:, 0], X_train_plot[:, 1], c = y_train_plot)\n",
        "## your code here"
      ],
      "id": "P-7TANFGSWRZ",
      "execution_count": 53,
      "outputs": [
        {
          "output_type": "execute_result",
          "data": {
            "text/plain": [
              "<matplotlib.collections.PathCollection at 0x7f9a49951e10>"
            ]
          },
          "metadata": {},
          "execution_count": 53
        },
        {
          "output_type": "display_data",
          "data": {
            "image/png": "[encoded data removed]",
            "text/plain": [
              "<Figure size 432x288 with 1 Axes>"
            ]
          },
          "metadata": {
            "needs_background": "light"
          }
        }
      ]
    },
    {
      "cell_type": "markdown",
      "metadata": {
        "id": "IZ52oKCcSWRZ"
      },
      "source": [
        "Do the same procedure as in two previous cells, but now for the `TSNE` method from `sklearn.manifold`."
      ],
      "id": "IZ52oKCcSWRZ"
    },
    {
      "cell_type": "code",
      "metadata": {
        "colab": {
          "base_uri": "https://localhost:8080/",
          "height": 350
        },
        "id": "vEm5ERwJSWRa",
        "outputId": "2b3b3974-a038-43ae-aa5a-e00d850672fd"
      },
      "source": [
        "## your code here\n",
        "from sklearn.manifold import TSNE\n",
        "tsne = TSNE(n_components= 2, random_state=0)\n",
        "X_2_tsne = tsne.fit_transform(X)\n",
        "\n",
        "y_train_plot = y[y < 15]\n",
        "X_train_plot = X_2_tsne[y < 15]\n",
        "plt.scatter(X_train_plot[:, 0], X_train_plot[:, 1], c = y_train_plot)"
      ],
      "id": "vEm5ERwJSWRa",
      "execution_count": 54,
      "outputs": [
        {
          "output_type": "stream",
          "name": "stderr",
          "text": [
            "/usr/local/lib/python3.7/dist-packages/sklearn/manifold/_t_sne.py:783: FutureWarning: The default initialization in TSNE will change from 'random' to 'pca' in 1.2.\n",
            "  FutureWarning,\n",
            "/usr/local/lib/python3.7/dist-packages/sklearn/manifold/_t_sne.py:793: FutureWarning: The default learning rate in TSNE will change from 200.0 to 'auto' in 1.2.\n",
            "  FutureWarning,\n"
          ]
        },
        {
          "output_type": "execute_result",
          "data": {
            "text/plain": [
              "<matplotlib.collections.PathCollection at 0x7f9a49951d90>"
            ]
          },
          "metadata": {},
          "execution_count": 54
        },
        {
          "output_type": "display_data",
          "data": {
            "image/png": "[encoded data removed]",
            "text/plain": [
              "<Figure size 432x288 with 1 Axes>"
            ]
          },
          "metadata": {
            "needs_background": "light"
          }
        }
      ]
    },
    {
      "cell_type": "markdown",
      "metadata": {
        "id": "Whr0s8YvSWRa"
      },
      "source": [
        "**Task 2. <a id=\"task2\"></a> (1 points)** Specify the coordinates of the object with index 0 (`X[0]`) after applying the TSNE method. Round the numbers to hundredths."
      ],
      "id": "Whr0s8YvSWRa"
    },
    {
      "cell_type": "code",
      "metadata": {
        "colab": {
          "base_uri": "https://localhost:8080/"
        },
        "id": "p05kpgctSWRa",
        "outputId": "0a96c9d4-1133-490e-a36e-e6b5f2e04d9c"
      },
      "source": [
        "## your code here\n",
        "\n",
        "cords_1_tsne = (round(X_2_tsne[0, 0], 2), round(X_2_tsne[0, 1], 2))\n",
        "print(cords_1_tsne)"
      ],
      "id": "p05kpgctSWRa",
      "execution_count": 20,
      "outputs": [
        {
          "output_type": "stream",
          "name": "stdout",
          "text": [
            "(-7.68, 16.54)\n"
          ]
        }
      ]
    },
    {
      "cell_type": "markdown",
      "metadata": {
        "id": "4_tnxitZSWRa"
      },
      "source": [
        "**Task 3. <a id=\"task3\"></a> (1 points)** Specify the coordinates of the object with index 0 (`X[0]`) after applying the PCA method. Round the numbers to hundredths."
      ],
      "id": "4_tnxitZSWRa"
    },
    {
      "cell_type": "code",
      "metadata": {
        "colab": {
          "base_uri": "https://localhost:8080/"
        },
        "id": "gfBGJd6OSWRb",
        "outputId": "da03807b-5fcf-4ea1-f7b2-52aeca353f89"
      },
      "source": [
        "## your code here\n",
        "\n",
        "cords_1_pca = (round(X_2[0, 0], 2), round(X_2[0, 1], 2))\n",
        "print(cords_1_pca)"
      ],
      "id": "gfBGJd6OSWRb",
      "execution_count": 21,
      "outputs": [
        {
          "output_type": "stream",
          "name": "stdout",
          "text": [
            "(-0.03, 0.03)\n"
          ]
        }
      ]
    },
    {
      "cell_type": "markdown",
      "metadata": {
        "id": "687VaMNPSWRb"
      },
      "source": [
        "**Task 4. <a id=\"task4\"></a> (1 points)** What conclusions can be drawn from the obtained images? Choose the right one(s).\n",
        "\n",
        "1) Using the principal components method, it was possible to visualize objects on a plane and objects of different classes are visually separable\n",
        "\n",
        "2) Using the TSNE method, it was possible to visualize objects on a plane and objects of different classes are visually separable\n",
        "\n",
        "3) Using the TSNE and PCA methods, it was possible to visualize objects on a plane and objects of different classes are visually separable\n",
        "\n",
        "4) Using the TSNE and PCA methods, it was possible to visualize objects on a plane and objects of different classes are not visually separable"
      ],
      "id": "687VaMNPSWRb"
    },
    {
      "cell_type": "markdown",
      "metadata": {
        "id": "qngdeXs3SWRb"
      },
      "source": [
        "2\n"
      ],
      "id": "qngdeXs3SWRb"
    },
    {
      "cell_type": "markdown",
      "metadata": {
        "id": "I0AF0-Z6SWRb"
      },
      "source": [
        "## K_means"
      ],
      "id": "I0AF0-Z6SWRb"
    },
    {
      "cell_type": "markdown",
      "metadata": {
        "id": "V3kZKsfMSWRb"
      },
      "source": [
        "**Task 5. <a id=\"task5\"></a> (1.5 points)** Implement the MyKMeans class.\n",
        "\n",
        "The class must match the template shown below. Please, add code where needed. Some guidelines are the following:\n",
        "\n",
        "The class constructor is passed to:\n",
        "- n_clusters - the number of clusters that the data will be split into\n",
        "\n",
        "- n_iters - the maximum number of iterations that can be done in this algorithm\n",
        "\n",
        "Realize `update_centers` and `update_labels` methods.\n",
        "\n",
        "\n",
        "In the `fit` method:\n",
        "\n",
        "- Write sequential call of `self_centers` and `self_labels`.\n",
        "\n",
        "then in the loop by the number of iterations you need to implement:\n",
        "- calculate the nearest cluster center for each object\n",
        "- recalculate the center of each cluster (the average of each of the coordinates of all objects assigned to this cluster)\n",
        "put the calculated new cluster centers in the `new_centers` variable\n",
        "\n",
        "In the `predict` method:\n",
        "\n",
        "the nearest cluster centers for `X` objects are calculated"
      ],
      "id": "V3kZKsfMSWRb"
    },
    {
      "cell_type": "code",
      "metadata": {
        "id": "idzMmyACSWRc"
      },
      "source": [
        "from IPython.display import clear_output\n",
        "from sklearn.metrics import pairwise_distances_argmin\n",
        "\n",
        "def plot_clust(X, centers, lables, ax): \n",
        "    ax.scatter(X[:,0], X[:,1], c=lables)\n",
        "    ax.scatter(centers[:,0], centers[:,1], marker='>', color='red')\n",
        "\n",
        "\n",
        "class MyKMeans():\n",
        "    def __init__(self, n_clusters=3, n_iters=100, seed=None):\n",
        "        self.n_clusters = n_clusters\n",
        "        self.labels = None \n",
        "        self.centers = None \n",
        "        self.n_iters = n_iters\n",
        "        self.seed = 0 if seed is None else seed\n",
        "        np.random.seed(self.seed)\n",
        "\n",
        "    def update_centers(self, X):\n",
        "        centers = np.array(self.centers)\n",
        "        for i in range(self.n_clusters):\n",
        "          centers[i] = np.mean(X[self.labels == i], axis = 0)\n",
        "        return centers \n",
        "    \n",
        "    def update_lables(self, X):\n",
        "        labels = pairwise_distances_argmin(X, self.centers)\n",
        "        return labels \n",
        "\n",
        "    def fit(self, X):\n",
        "        center_ind = np.random.randint(X.shape[0], size = self.n_clusters)\n",
        "        self.centers = X[center_ind]\n",
        "        \n",
        "        self.labels = np.array(X.shape[0])\n",
        "\n",
        "        for it in range(self.n_iters):\n",
        "            new_labels = self.update_lables(X)\n",
        "            self.labels = new_labels\n",
        "\n",
        "            new_centers = self.update_centers(X)\n",
        "            if np.allclose(self.centers.flatten(), new_centers.flatten(), atol=1e-1):\n",
        "                self.centers = new_centers\n",
        "                self.labels = new_labels\n",
        "                print('Converge by tolerance centers')\n",
        "\n",
        "                fig, ax = plt.subplots(1,1)\n",
        "                plot_clust(X, new_centers, new_labels, ax)\n",
        "                return 0\n",
        "      \n",
        "            self.centers = new_centers\n",
        "\n",
        "            fig, ax = plt.subplots(1,1)\n",
        "            plot_clust(X, new_centers, new_labels, ax)\n",
        "            plt.pause(0.3);\n",
        "            clear_output(wait=True);\n",
        "\n",
        "        return 1\n",
        "    \n",
        "    def predict(self, X):\n",
        "        labels = pairwise_distances_argmin(X, self.centers)\n",
        "        return labels"
      ],
      "id": "idzMmyACSWRc",
      "execution_count": 23,
      "outputs": []
    },
    {
      "cell_type": "markdown",
      "metadata": {
        "id": "rYU04GXJSWRc"
      },
      "source": [
        "Generating data for clustering"
      ],
      "id": "rYU04GXJSWRc"
    },
    {
      "cell_type": "code",
      "metadata": {
        "id": "jdlIVFBHSWRc"
      },
      "source": [
        "from sklearn import datasets\n",
        "n_samples = 1000\n",
        "\n",
        "noisy_blobs = datasets.make_blobs(n_samples=n_samples,\n",
        "                             cluster_std=[1.0, 0.5, 0.5],\n",
        "                             random_state=0)"
      ],
      "id": "jdlIVFBHSWRc",
      "execution_count": 37,
      "outputs": []
    },
    {
      "cell_type": "code",
      "metadata": {
        "id": "m6yEvMzwSWRc"
      },
      "source": [
        "X, y = noisy_blobs"
      ],
      "id": "m6yEvMzwSWRc",
      "execution_count": 38,
      "outputs": []
    },
    {
      "cell_type": "markdown",
      "metadata": {
        "id": "9bEQBPcSSWRc"
      },
      "source": [
        "**Task 6. <a id=\"task6\"></a> (1.5 points)** \n",
        "\n",
        "6.1 Cluster noisy_blobs objects with `MyKMeans`, use the hyperparameters `n_clusters=3`, `n_iters=100`. Specify the response for the object with index 1."
      ],
      "id": "9bEQBPcSSWRc"
    },
    {
      "cell_type": "code",
      "metadata": {
        "colab": {
          "base_uri": "https://localhost:8080/",
          "height": 301
        },
        "id": "JOkehxKdSWRd",
        "outputId": "7d19992a-8b82-4f43-a407-5c6fcb8af230"
      },
      "source": [
        "## your code here\n",
        "kMeans100 = MyKMeans(n_clusters= 3 , n_iters = 100)\n",
        "kMeans100.fit(X)\n",
        "print(kMeans100.predict(np.array([X[1]])))"
      ],
      "id": "JOkehxKdSWRd",
      "execution_count": 39,
      "outputs": [
        {
          "output_type": "stream",
          "name": "stdout",
          "text": [
            "Converge by tolerance centers\n",
            "[2]\n"
          ]
        },
        {
          "output_type": "display_data",
          "data": {
            "image/png": "[encoded data removed]",
            "text/plain": [
              "<Figure size 432x288 with 1 Axes>"
            ]
          },
          "metadata": {
            "needs_background": "light"
          }
        }
      ]
    },
    {
      "cell_type": "markdown",
      "metadata": {
        "id": "vFRfUJh1SWRd"
      },
      "source": [
        "6.2 Cluster noisy_blobs objects, use the hyperparameters `n_clusters=3`, `n_iters = 5`. Specify the response for the object with index 1."
      ],
      "id": "vFRfUJh1SWRd"
    },
    {
      "cell_type": "code",
      "metadata": {
        "colab": {
          "base_uri": "https://localhost:8080/",
          "height": 301
        },
        "id": "-efC-YzISWRd",
        "outputId": "a42d49a4-453b-4bf9-e652-c9bd717281bf"
      },
      "source": [
        "# your code here\n",
        "kMeans5 = MyKMeans(n_clusters= 3 , n_iters = 5)\n",
        "kMeans5.fit(X)\n",
        "print(kMeans5.predict(np.array([X[1]])))"
      ],
      "id": "-efC-YzISWRd",
      "execution_count": 40,
      "outputs": [
        {
          "output_type": "stream",
          "name": "stdout",
          "text": [
            "Converge by tolerance centers\n",
            "[2]\n"
          ]
        },
        {
          "output_type": "display_data",
          "data": {
            "image/png": "[encoded data removed]",
            "text/plain": [
              "<Figure size 432x288 with 1 Axes>"
            ]
          },
          "metadata": {
            "needs_background": "light"
          }
        }
      ]
    },
    {
      "cell_type": "markdown",
      "metadata": {
        "id": "BsD8o_KVSWRd"
      },
      "source": [
        "6.3 Calculate how many objects changed the label of the predicted cluster when changing the hyperparameter n_iters from 5 to 100"
      ],
      "id": "BsD8o_KVSWRd"
    },
    {
      "cell_type": "code",
      "metadata": {
        "colab": {
          "base_uri": "https://localhost:8080/"
        },
        "id": "ZnwdvpqzSWRd",
        "outputId": "d03094ce-c14e-4907-a525-94d4b79175ca"
      },
      "source": [
        "## your code here\n",
        "num_of_changed = np.sum(kMeans5.predict(X) != kMeans100.predict(X))\n",
        "print(num_of_changed)"
      ],
      "id": "ZnwdvpqzSWRd",
      "execution_count": 41,
      "outputs": [
        {
          "output_type": "stream",
          "name": "stdout",
          "text": [
            "0\n"
          ]
        }
      ]
    },
    {
      "cell_type": "markdown",
      "metadata": {
        "id": "nudPu47gSWRe"
      },
      "source": [
        "**Task 7. <a id=\"task6\"></a> (1.5 points)** \n",
        "\n",
        "Using the elbow method, select the optimal number of clusters. As a metric, use the sum of the squares of the distances between the data points and the centroids of the clusters assigned to them. To do this, iterate the parameter k from 2 to 50 in steps of 2. "
      ],
      "id": "nudPu47gSWRe"
    },
    {
      "cell_type": "code",
      "metadata": {
        "colab": {
          "base_uri": "https://localhost:8080/",
          "height": 301
        },
        "id": "ypHWhHVLSWRe",
        "outputId": "73e25e51-a4ad-487e-85cb-bc1e79a86a80"
      },
      "source": [
        "## your code here\n",
        "from sklearn.metrics import pairwise_distances\n",
        "min_dist = 0\n",
        "k = -1\n",
        "for i in np.arange(2, 21, 2):\n",
        "  kMeans = MyKMeans(i)\n",
        "  kMeans.fit(X)\n",
        "  dist = np.sum((X - kMeans.centers[kMeans.predict(X)]) ** 2)\n",
        "  if(k == -1 or min_dist > dist):\n",
        "    k = i\n",
        "    min_dist = dist\n",
        "print(f'The best count of clusters: {k} and distance {min_dist}')"
      ],
      "id": "ypHWhHVLSWRe",
      "execution_count": 33,
      "outputs": [
        {
          "output_type": "stream",
          "name": "stdout",
          "text": [
            "Converge by tolerance centers\n",
            "The best count of clusters: 20 and distance 195.09697621796403\n"
          ]
        },
        {
          "output_type": "display_data",
          "data": {
            "image/png": "[encoded data removed]",
            "text/plain": [
              "<Figure size 432x288 with 1 Axes>"
            ]
          },
          "metadata": {
            "needs_background": "light"
          }
        }
      ]
    },
    {
      "cell_type": "markdown",
      "source": [
        "При параметре k равном 50 кластерам в pairwise_distances_argmin происходит переполнение и ошибка. Но исходя из наблюдений лучшее число кластеров 50 по этой метрике, там как если, например, возьмем 1000 кластеров на 1000 объектов, то расстояние будет равно 0."
      ],
      "metadata": {
        "id": "Fxv7gWFxHeC1"
      },
      "id": "Fxv7gWFxHeC1"
    },
    {
      "cell_type": "markdown",
      "metadata": {
        "id": "MtuHVClhSWRe"
      },
      "source": [
        "## DBSCAN"
      ],
      "id": "MtuHVClhSWRe"
    },
    {
      "cell_type": "markdown",
      "metadata": {
        "id": "5MGujV2YSWRe"
      },
      "source": [
        "**Task 8. <a id=\"task7\"></a> (0.5 points)** Cluster noisy_blobs objects using DBSCAN. Use the DBSCAN implementation from sklearn. Fix the `eps=0.5` hyperparameter. Specify the response for the object with index 1."
      ],
      "id": "5MGujV2YSWRe"
    },
    {
      "cell_type": "code",
      "metadata": {
        "colab": {
          "base_uri": "https://localhost:8080/"
        },
        "id": "ft6bvL7eSWRe",
        "outputId": "d2ea11fd-752c-4853-e600-32fb1dfc9df5"
      },
      "source": [
        "## your code here\n",
        "from sklearn.cluster import DBSCAN\n",
        "dbscan = DBSCAN(eps = 0.5)\n",
        "labels = dbscan.fit_predict(X)\n",
        "print(labels[1])"
      ],
      "id": "ft6bvL7eSWRe",
      "execution_count": 42,
      "outputs": [
        {
          "output_type": "stream",
          "name": "stdout",
          "text": [
            "0\n"
          ]
        }
      ]
    },
    {
      "cell_type": "markdown",
      "metadata": {
        "id": "_N0YiLA_SWRe"
      },
      "source": [
        "**Task 9. <a id=\"task8\"></a> (1 point)** 9.1 Specify the resulting number of clusters"
      ],
      "id": "_N0YiLA_SWRe"
    },
    {
      "cell_type": "code",
      "metadata": {
        "colab": {
          "base_uri": "https://localhost:8080/"
        },
        "id": "N5zHVNi4SWRe",
        "outputId": "7dc20316-faa4-46b0-9c28-3e27e42e610c"
      },
      "source": [
        "## your code here\n",
        "num_of_clusters = np.unique(labels).shape[0] - 1\n",
        "print(num_of_clusters)"
      ],
      "id": "N5zHVNi4SWRe",
      "execution_count": 43,
      "outputs": [
        {
          "output_type": "stream",
          "name": "stdout",
          "text": [
            "1\n"
          ]
        }
      ]
    },
    {
      "cell_type": "markdown",
      "metadata": {
        "id": "svQd0kORSWRe"
      },
      "source": [
        "9.2 How many objects were counted as outliers (marked -1)?"
      ],
      "id": "svQd0kORSWRe"
    },
    {
      "cell_type": "code",
      "metadata": {
        "colab": {
          "base_uri": "https://localhost:8080/"
        },
        "id": "sGqECsPeSWRf",
        "outputId": "3172de2f-2322-4355-f7e6-49a0174d4dc8"
      },
      "source": [
        "num_of_outliers = np.sum(labels == -1)\n",
        "print(num_of_outliers)"
      ],
      "id": "sGqECsPeSWRf",
      "execution_count": 44,
      "outputs": [
        {
          "output_type": "stream",
          "name": "stdout",
          "text": [
            "11\n"
          ]
        }
      ]
    },
    {
      "cell_type": "markdown",
      "metadata": {
        "id": "v4QSqLlZSWRf"
      },
      "source": [
        " "
      ],
      "id": "v4QSqLlZSWRf"
    }
  ]
}
